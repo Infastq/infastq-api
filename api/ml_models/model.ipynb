{
 "cells": [
  {
   "cell_type": "markdown",
   "metadata": {},
   "source": [
    "# IMPORT ALL REQUIREMENTS"
   ]
  },
  {
   "cell_type": "code",
   "execution_count": 473,
   "metadata": {},
   "outputs": [],
   "source": [
    "import pandas as pd\n",
    "import numpy as np\n",
    "import seaborn as sns\n",
    "import matplotlib.pyplot as plt\n",
    "import math\n",
    "from xgboost import XGBClassifier"
   ]
  },
  {
   "cell_type": "markdown",
   "metadata": {},
   "source": [
    "## import data csv"
   ]
  },
  {
   "cell_type": "code",
   "execution_count": 474,
   "metadata": {},
   "outputs": [],
   "source": [
    "# df = pd.read_csv(\"./Data Color.csv\")\n",
    "# df = pd.read_excel(\"./data_uang_gemastik.xlsx\")\n",
    "df = pd.read_csv(\"./data_colors.csv\")"
   ]
  },
  {
   "cell_type": "code",
   "execution_count": 475,
   "metadata": {},
   "outputs": [
    {
     "data": {
      "text/html": [
       "<div>\n",
       "<style scoped>\n",
       "    .dataframe tbody tr th:only-of-type {\n",
       "        vertical-align: middle;\n",
       "    }\n",
       "\n",
       "    .dataframe tbody tr th {\n",
       "        vertical-align: top;\n",
       "    }\n",
       "\n",
       "    .dataframe thead th {\n",
       "        text-align: right;\n",
       "    }\n",
       "</style>\n",
       "<table border=\"1\" class=\"dataframe\">\n",
       "  <thead>\n",
       "    <tr style=\"text-align: right;\">\n",
       "      <th></th>\n",
       "      <th>red_freq</th>\n",
       "      <th>green_freq</th>\n",
       "      <th>blue_freq</th>\n",
       "      <th>value</th>\n",
       "    </tr>\n",
       "  </thead>\n",
       "  <tbody>\n",
       "    <tr>\n",
       "      <th>0</th>\n",
       "      <td>66</td>\n",
       "      <td>86</td>\n",
       "      <td>75.0</td>\n",
       "      <td>1000.0</td>\n",
       "    </tr>\n",
       "    <tr>\n",
       "      <th>1</th>\n",
       "      <td>66</td>\n",
       "      <td>86</td>\n",
       "      <td>75.0</td>\n",
       "      <td>1000.0</td>\n",
       "    </tr>\n",
       "    <tr>\n",
       "      <th>2</th>\n",
       "      <td>72</td>\n",
       "      <td>84</td>\n",
       "      <td>76.0</td>\n",
       "      <td>1000.0</td>\n",
       "    </tr>\n",
       "    <tr>\n",
       "      <th>3</th>\n",
       "      <td>72</td>\n",
       "      <td>84</td>\n",
       "      <td>76.0</td>\n",
       "      <td>1000.0</td>\n",
       "    </tr>\n",
       "    <tr>\n",
       "      <th>4</th>\n",
       "      <td>72</td>\n",
       "      <td>83</td>\n",
       "      <td>76.0</td>\n",
       "      <td>1000.0</td>\n",
       "    </tr>\n",
       "    <tr>\n",
       "      <th>...</th>\n",
       "      <td>...</td>\n",
       "      <td>...</td>\n",
       "      <td>...</td>\n",
       "      <td>...</td>\n",
       "    </tr>\n",
       "    <tr>\n",
       "      <th>1903</th>\n",
       "      <td>62</td>\n",
       "      <td>86</td>\n",
       "      <td>75.0</td>\n",
       "      <td>100000.0</td>\n",
       "    </tr>\n",
       "    <tr>\n",
       "      <th>1904</th>\n",
       "      <td>62</td>\n",
       "      <td>83</td>\n",
       "      <td>74.0</td>\n",
       "      <td>100000.0</td>\n",
       "    </tr>\n",
       "    <tr>\n",
       "      <th>1905</th>\n",
       "      <td>54</td>\n",
       "      <td>89</td>\n",
       "      <td>78.0</td>\n",
       "      <td>100000.0</td>\n",
       "    </tr>\n",
       "    <tr>\n",
       "      <th>1906</th>\n",
       "      <td>67</td>\n",
       "      <td>99</td>\n",
       "      <td>88.0</td>\n",
       "      <td>100000.0</td>\n",
       "    </tr>\n",
       "    <tr>\n",
       "      <th>1907</th>\n",
       "      <td>66</td>\n",
       "      <td>102</td>\n",
       "      <td>88.0</td>\n",
       "      <td>100000.0</td>\n",
       "    </tr>\n",
       "  </tbody>\n",
       "</table>\n",
       "<p>1908 rows × 4 columns</p>\n",
       "</div>"
      ],
      "text/plain": [
       "      red_freq  green_freq  blue_freq     value\n",
       "0           66          86       75.0    1000.0\n",
       "1           66          86       75.0    1000.0\n",
       "2           72          84       76.0    1000.0\n",
       "3           72          84       76.0    1000.0\n",
       "4           72          83       76.0    1000.0\n",
       "...        ...         ...        ...       ...\n",
       "1903        62          86       75.0  100000.0\n",
       "1904        62          83       74.0  100000.0\n",
       "1905        54          89       78.0  100000.0\n",
       "1906        67          99       88.0  100000.0\n",
       "1907        66         102       88.0  100000.0\n",
       "\n",
       "[1908 rows x 4 columns]"
      ]
     },
     "execution_count": 475,
     "metadata": {},
     "output_type": "execute_result"
    }
   ],
   "source": [
    "df"
   ]
  },
  {
   "cell_type": "code",
   "execution_count": 476,
   "metadata": {},
   "outputs": [
    {
     "data": {
      "text/plain": [
       "red_freq        int64\n",
       "green_freq      int64\n",
       "blue_freq     float64\n",
       "value         float64\n",
       "dtype: object"
      ]
     },
     "execution_count": 476,
     "metadata": {},
     "output_type": "execute_result"
    }
   ],
   "source": [
    "df.dtypes"
   ]
  },
  {
   "cell_type": "markdown",
   "metadata": {},
   "source": []
  },
  {
   "cell_type": "markdown",
   "metadata": {},
   "source": [
    "# EDA"
   ]
  },
  {
   "cell_type": "code",
   "execution_count": null,
   "metadata": {},
   "outputs": [],
   "source": []
  },
  {
   "cell_type": "markdown",
   "metadata": {},
   "source": [
    "## Data Preprocessing and Feature Engineering"
   ]
  },
  {
   "cell_type": "code",
   "execution_count": 477,
   "metadata": {},
   "outputs": [],
   "source": [
    "# drop the date time column\n",
    "\n",
    "# df = df.drop(columns=[\"Date\", \"Time\"])\n",
    "df.dropna(inplace=True)"
   ]
  },
  {
   "cell_type": "code",
   "execution_count": 478,
   "metadata": {},
   "outputs": [
    {
     "data": {
      "text/html": [
       "<div>\n",
       "<style scoped>\n",
       "    .dataframe tbody tr th:only-of-type {\n",
       "        vertical-align: middle;\n",
       "    }\n",
       "\n",
       "    .dataframe tbody tr th {\n",
       "        vertical-align: top;\n",
       "    }\n",
       "\n",
       "    .dataframe thead th {\n",
       "        text-align: right;\n",
       "    }\n",
       "</style>\n",
       "<table border=\"1\" class=\"dataframe\">\n",
       "  <thead>\n",
       "    <tr style=\"text-align: right;\">\n",
       "      <th></th>\n",
       "      <th>red_freq</th>\n",
       "      <th>green_freq</th>\n",
       "      <th>blue_freq</th>\n",
       "      <th>value</th>\n",
       "    </tr>\n",
       "  </thead>\n",
       "  <tbody>\n",
       "    <tr>\n",
       "      <th>0</th>\n",
       "      <td>66</td>\n",
       "      <td>86</td>\n",
       "      <td>75.0</td>\n",
       "      <td>1000.0</td>\n",
       "    </tr>\n",
       "    <tr>\n",
       "      <th>1</th>\n",
       "      <td>66</td>\n",
       "      <td>86</td>\n",
       "      <td>75.0</td>\n",
       "      <td>1000.0</td>\n",
       "    </tr>\n",
       "    <tr>\n",
       "      <th>2</th>\n",
       "      <td>72</td>\n",
       "      <td>84</td>\n",
       "      <td>76.0</td>\n",
       "      <td>1000.0</td>\n",
       "    </tr>\n",
       "    <tr>\n",
       "      <th>3</th>\n",
       "      <td>72</td>\n",
       "      <td>84</td>\n",
       "      <td>76.0</td>\n",
       "      <td>1000.0</td>\n",
       "    </tr>\n",
       "    <tr>\n",
       "      <th>4</th>\n",
       "      <td>72</td>\n",
       "      <td>83</td>\n",
       "      <td>76.0</td>\n",
       "      <td>1000.0</td>\n",
       "    </tr>\n",
       "    <tr>\n",
       "      <th>...</th>\n",
       "      <td>...</td>\n",
       "      <td>...</td>\n",
       "      <td>...</td>\n",
       "      <td>...</td>\n",
       "    </tr>\n",
       "    <tr>\n",
       "      <th>1903</th>\n",
       "      <td>62</td>\n",
       "      <td>86</td>\n",
       "      <td>75.0</td>\n",
       "      <td>100000.0</td>\n",
       "    </tr>\n",
       "    <tr>\n",
       "      <th>1904</th>\n",
       "      <td>62</td>\n",
       "      <td>83</td>\n",
       "      <td>74.0</td>\n",
       "      <td>100000.0</td>\n",
       "    </tr>\n",
       "    <tr>\n",
       "      <th>1905</th>\n",
       "      <td>54</td>\n",
       "      <td>89</td>\n",
       "      <td>78.0</td>\n",
       "      <td>100000.0</td>\n",
       "    </tr>\n",
       "    <tr>\n",
       "      <th>1906</th>\n",
       "      <td>67</td>\n",
       "      <td>99</td>\n",
       "      <td>88.0</td>\n",
       "      <td>100000.0</td>\n",
       "    </tr>\n",
       "    <tr>\n",
       "      <th>1907</th>\n",
       "      <td>66</td>\n",
       "      <td>102</td>\n",
       "      <td>88.0</td>\n",
       "      <td>100000.0</td>\n",
       "    </tr>\n",
       "  </tbody>\n",
       "</table>\n",
       "<p>1884 rows × 4 columns</p>\n",
       "</div>"
      ],
      "text/plain": [
       "      red_freq  green_freq  blue_freq     value\n",
       "0           66          86       75.0    1000.0\n",
       "1           66          86       75.0    1000.0\n",
       "2           72          84       76.0    1000.0\n",
       "3           72          84       76.0    1000.0\n",
       "4           72          83       76.0    1000.0\n",
       "...        ...         ...        ...       ...\n",
       "1903        62          86       75.0  100000.0\n",
       "1904        62          83       74.0  100000.0\n",
       "1905        54          89       78.0  100000.0\n",
       "1906        67          99       88.0  100000.0\n",
       "1907        66         102       88.0  100000.0\n",
       "\n",
       "[1884 rows x 4 columns]"
      ]
     },
     "metadata": {},
     "output_type": "display_data"
    }
   ],
   "source": [
    "display(df)"
   ]
  },
  {
   "cell_type": "code",
   "execution_count": 479,
   "metadata": {},
   "outputs": [],
   "source": [
    "df['value'] = df['value'].apply(lambda x: round(x)).astype(int).astype(str)\n",
    "df['blue_freq'] = df['blue_freq'].apply(lambda x: round(x)).astype(int)"
   ]
  },
  {
   "cell_type": "code",
   "execution_count": 480,
   "metadata": {},
   "outputs": [
    {
     "data": {
      "image/png": "[encoded data removed]",
      "text/plain": [
       "<Figure size 360x360 with 1 Axes>"
      ]
     },
     "metadata": {
      "needs_background": "light"
     },
     "output_type": "display_data"
    },
    {
     "data": {
      "image/png": "[encoded data removed]",
      "text/plain": [
       "<Figure size 360x360 with 1 Axes>"
      ]
     },
     "metadata": {
      "needs_background": "light"
     },
     "output_type": "display_data"
    },
    {
     "data": {
      "image/png": "[encoded data removed]",
      "text/plain": [
       "<Figure size 360x360 with 1 Axes>"
      ]
     },
     "metadata": {
      "needs_background": "light"
     },
     "output_type": "display_data"
    },
    {
     "data": {
      "image/png": "[encoded data removed]",
      "text/plain": [
       "<Figure size 360x360 with 1 Axes>"
      ]
     },
     "metadata": {
      "needs_background": "light"
     },
     "output_type": "display_data"
    }
   ],
   "source": [
    "for i in df.columns:\n",
    "    sns.displot(data=df[i], color=\"red\")"
   ]
  },
  {
   "cell_type": "code",
   "execution_count": 481,
   "metadata": {},
   "outputs": [
    {
     "data": {
      "text/html": [
       "<div>\n",
       "<style scoped>\n",
       "    .dataframe tbody tr th:only-of-type {\n",
       "        vertical-align: middle;\n",
       "    }\n",
       "\n",
       "    .dataframe tbody tr th {\n",
       "        vertical-align: top;\n",
       "    }\n",
       "\n",
       "    .dataframe thead th {\n",
       "        text-align: right;\n",
       "    }\n",
       "</style>\n",
       "<table border=\"1\" class=\"dataframe\">\n",
       "  <thead>\n",
       "    <tr style=\"text-align: right;\">\n",
       "      <th></th>\n",
       "      <th>red_freq</th>\n",
       "      <th>green_freq</th>\n",
       "      <th>blue_freq</th>\n",
       "      <th>value</th>\n",
       "    </tr>\n",
       "  </thead>\n",
       "  <tbody>\n",
       "    <tr>\n",
       "      <th>0</th>\n",
       "      <td>66</td>\n",
       "      <td>86</td>\n",
       "      <td>75</td>\n",
       "      <td>1000</td>\n",
       "    </tr>\n",
       "    <tr>\n",
       "      <th>1</th>\n",
       "      <td>66</td>\n",
       "      <td>86</td>\n",
       "      <td>75</td>\n",
       "      <td>1000</td>\n",
       "    </tr>\n",
       "    <tr>\n",
       "      <th>2</th>\n",
       "      <td>72</td>\n",
       "      <td>84</td>\n",
       "      <td>76</td>\n",
       "      <td>1000</td>\n",
       "    </tr>\n",
       "    <tr>\n",
       "      <th>3</th>\n",
       "      <td>72</td>\n",
       "      <td>84</td>\n",
       "      <td>76</td>\n",
       "      <td>1000</td>\n",
       "    </tr>\n",
       "    <tr>\n",
       "      <th>4</th>\n",
       "      <td>72</td>\n",
       "      <td>83</td>\n",
       "      <td>76</td>\n",
       "      <td>1000</td>\n",
       "    </tr>\n",
       "    <tr>\n",
       "      <th>...</th>\n",
       "      <td>...</td>\n",
       "      <td>...</td>\n",
       "      <td>...</td>\n",
       "      <td>...</td>\n",
       "    </tr>\n",
       "    <tr>\n",
       "      <th>1903</th>\n",
       "      <td>62</td>\n",
       "      <td>86</td>\n",
       "      <td>75</td>\n",
       "      <td>100000</td>\n",
       "    </tr>\n",
       "    <tr>\n",
       "      <th>1904</th>\n",
       "      <td>62</td>\n",
       "      <td>83</td>\n",
       "      <td>74</td>\n",
       "      <td>100000</td>\n",
       "    </tr>\n",
       "    <tr>\n",
       "      <th>1905</th>\n",
       "      <td>54</td>\n",
       "      <td>89</td>\n",
       "      <td>78</td>\n",
       "      <td>100000</td>\n",
       "    </tr>\n",
       "    <tr>\n",
       "      <th>1906</th>\n",
       "      <td>67</td>\n",
       "      <td>99</td>\n",
       "      <td>88</td>\n",
       "      <td>100000</td>\n",
       "    </tr>\n",
       "    <tr>\n",
       "      <th>1907</th>\n",
       "      <td>66</td>\n",
       "      <td>102</td>\n",
       "      <td>88</td>\n",
       "      <td>100000</td>\n",
       "    </tr>\n",
       "  </tbody>\n",
       "</table>\n",
       "<p>1884 rows × 4 columns</p>\n",
       "</div>"
      ],
      "text/plain": [
       "      red_freq  green_freq  blue_freq   value\n",
       "0           66          86         75    1000\n",
       "1           66          86         75    1000\n",
       "2           72          84         76    1000\n",
       "3           72          84         76    1000\n",
       "4           72          83         76    1000\n",
       "...        ...         ...        ...     ...\n",
       "1903        62          86         75  100000\n",
       "1904        62          83         74  100000\n",
       "1905        54          89         78  100000\n",
       "1906        67          99         88  100000\n",
       "1907        66         102         88  100000\n",
       "\n",
       "[1884 rows x 4 columns]"
      ]
     },
     "metadata": {},
     "output_type": "display_data"
    }
   ],
   "source": [
    "display(df)"
   ]
  },
  {
   "cell_type": "code",
   "execution_count": 482,
   "metadata": {},
   "outputs": [],
   "source": [
    "## scaling dengan MinMaxScaler\n",
    "from sklearn.preprocessing import MinMaxScaler"
   ]
  },
  {
   "cell_type": "code",
   "execution_count": 483,
   "metadata": {},
   "outputs": [],
   "source": [
    "# memex = MinMaxScaler()\n",
    "# col = [\"Red Freq\", \"Blue Freq\", \"Green Freq\"]\n",
    "# df[col] = memex.fit_transform(df[col])\n",
    "# display(df)"
   ]
  },
  {
   "cell_type": "markdown",
   "metadata": {},
   "source": [
    "## Feature Engineering"
   ]
  },
  {
   "cell_type": "markdown",
   "metadata": {},
   "source": [
    "setelah melihat pola pada nilai frekuensi r,g, dan b. ditemukan kemiripan untuk selisih r-g, r-b, dan g-b. maka akan dibuat feature baru pada data"
   ]
  },
  {
   "cell_type": "code",
   "execution_count": 484,
   "metadata": {},
   "outputs": [
    {
     "data": {
      "text/html": [
       "<div>\n",
       "<style scoped>\n",
       "    .dataframe tbody tr th:only-of-type {\n",
       "        vertical-align: middle;\n",
       "    }\n",
       "\n",
       "    .dataframe tbody tr th {\n",
       "        vertical-align: top;\n",
       "    }\n",
       "\n",
       "    .dataframe thead th {\n",
       "        text-align: right;\n",
       "    }\n",
       "</style>\n",
       "<table border=\"1\" class=\"dataframe\">\n",
       "  <thead>\n",
       "    <tr style=\"text-align: right;\">\n",
       "      <th></th>\n",
       "      <th>red_freq</th>\n",
       "      <th>green_freq</th>\n",
       "      <th>blue_freq</th>\n",
       "      <th>value</th>\n",
       "      <th>r-g</th>\n",
       "      <th>r-b</th>\n",
       "      <th>g-b</th>\n",
       "      <th>rgb</th>\n",
       "      <th>r+g+b</th>\n",
       "    </tr>\n",
       "  </thead>\n",
       "  <tbody>\n",
       "    <tr>\n",
       "      <th>0</th>\n",
       "      <td>66</td>\n",
       "      <td>86</td>\n",
       "      <td>75</td>\n",
       "      <td>1000</td>\n",
       "      <td>-20</td>\n",
       "      <td>-9</td>\n",
       "      <td>11</td>\n",
       "      <td>425700</td>\n",
       "      <td>227</td>\n",
       "    </tr>\n",
       "    <tr>\n",
       "      <th>1</th>\n",
       "      <td>66</td>\n",
       "      <td>86</td>\n",
       "      <td>75</td>\n",
       "      <td>1000</td>\n",
       "      <td>-20</td>\n",
       "      <td>-9</td>\n",
       "      <td>11</td>\n",
       "      <td>425700</td>\n",
       "      <td>227</td>\n",
       "    </tr>\n",
       "    <tr>\n",
       "      <th>2</th>\n",
       "      <td>72</td>\n",
       "      <td>84</td>\n",
       "      <td>76</td>\n",
       "      <td>1000</td>\n",
       "      <td>-12</td>\n",
       "      <td>-4</td>\n",
       "      <td>8</td>\n",
       "      <td>459648</td>\n",
       "      <td>232</td>\n",
       "    </tr>\n",
       "    <tr>\n",
       "      <th>3</th>\n",
       "      <td>72</td>\n",
       "      <td>84</td>\n",
       "      <td>76</td>\n",
       "      <td>1000</td>\n",
       "      <td>-12</td>\n",
       "      <td>-4</td>\n",
       "      <td>8</td>\n",
       "      <td>459648</td>\n",
       "      <td>232</td>\n",
       "    </tr>\n",
       "    <tr>\n",
       "      <th>4</th>\n",
       "      <td>72</td>\n",
       "      <td>83</td>\n",
       "      <td>76</td>\n",
       "      <td>1000</td>\n",
       "      <td>-11</td>\n",
       "      <td>-4</td>\n",
       "      <td>7</td>\n",
       "      <td>454176</td>\n",
       "      <td>231</td>\n",
       "    </tr>\n",
       "    <tr>\n",
       "      <th>...</th>\n",
       "      <td>...</td>\n",
       "      <td>...</td>\n",
       "      <td>...</td>\n",
       "      <td>...</td>\n",
       "      <td>...</td>\n",
       "      <td>...</td>\n",
       "      <td>...</td>\n",
       "      <td>...</td>\n",
       "      <td>...</td>\n",
       "    </tr>\n",
       "    <tr>\n",
       "      <th>1903</th>\n",
       "      <td>62</td>\n",
       "      <td>86</td>\n",
       "      <td>75</td>\n",
       "      <td>100000</td>\n",
       "      <td>-24</td>\n",
       "      <td>-13</td>\n",
       "      <td>11</td>\n",
       "      <td>399900</td>\n",
       "      <td>223</td>\n",
       "    </tr>\n",
       "    <tr>\n",
       "      <th>1904</th>\n",
       "      <td>62</td>\n",
       "      <td>83</td>\n",
       "      <td>74</td>\n",
       "      <td>100000</td>\n",
       "      <td>-21</td>\n",
       "      <td>-12</td>\n",
       "      <td>9</td>\n",
       "      <td>380804</td>\n",
       "      <td>219</td>\n",
       "    </tr>\n",
       "    <tr>\n",
       "      <th>1905</th>\n",
       "      <td>54</td>\n",
       "      <td>89</td>\n",
       "      <td>78</td>\n",
       "      <td>100000</td>\n",
       "      <td>-35</td>\n",
       "      <td>-24</td>\n",
       "      <td>11</td>\n",
       "      <td>374868</td>\n",
       "      <td>221</td>\n",
       "    </tr>\n",
       "    <tr>\n",
       "      <th>1906</th>\n",
       "      <td>67</td>\n",
       "      <td>99</td>\n",
       "      <td>88</td>\n",
       "      <td>100000</td>\n",
       "      <td>-32</td>\n",
       "      <td>-21</td>\n",
       "      <td>11</td>\n",
       "      <td>583704</td>\n",
       "      <td>254</td>\n",
       "    </tr>\n",
       "    <tr>\n",
       "      <th>1907</th>\n",
       "      <td>66</td>\n",
       "      <td>102</td>\n",
       "      <td>88</td>\n",
       "      <td>100000</td>\n",
       "      <td>-36</td>\n",
       "      <td>-22</td>\n",
       "      <td>14</td>\n",
       "      <td>592416</td>\n",
       "      <td>256</td>\n",
       "    </tr>\n",
       "  </tbody>\n",
       "</table>\n",
       "<p>1884 rows × 9 columns</p>\n",
       "</div>"
      ],
      "text/plain": [
       "      red_freq  green_freq  blue_freq   value  r-g  r-b  g-b     rgb  r+g+b\n",
       "0           66          86         75    1000  -20   -9   11  425700    227\n",
       "1           66          86         75    1000  -20   -9   11  425700    227\n",
       "2           72          84         76    1000  -12   -4    8  459648    232\n",
       "3           72          84         76    1000  -12   -4    8  459648    232\n",
       "4           72          83         76    1000  -11   -4    7  454176    231\n",
       "...        ...         ...        ...     ...  ...  ...  ...     ...    ...\n",
       "1903        62          86         75  100000  -24  -13   11  399900    223\n",
       "1904        62          83         74  100000  -21  -12    9  380804    219\n",
       "1905        54          89         78  100000  -35  -24   11  374868    221\n",
       "1906        67          99         88  100000  -32  -21   11  583704    254\n",
       "1907        66         102         88  100000  -36  -22   14  592416    256\n",
       "\n",
       "[1884 rows x 9 columns]"
      ]
     },
     "execution_count": 484,
     "metadata": {},
     "output_type": "execute_result"
    }
   ],
   "source": [
    "df[\"r-g\"] = df[\"red_freq\"] - df[\"green_freq\"]\n",
    "df[\"r-b\"] = df[\"red_freq\"] - df[\"blue_freq\"]\n",
    "df[\"g-b\"] = df[\"green_freq\"] - df[\"blue_freq\"]\n",
    "df[\"rgb\"] = df[\"red_freq\"]*df[\"green_freq\"]*df[\"blue_freq\"]\n",
    "df[\"r+g+b\"] = df[\"red_freq\"]+df[\"green_freq\"]+df[\"blue_freq\"]\n",
    "df"
   ]
  },
  {
   "cell_type": "markdown",
   "metadata": {},
   "source": [
    "# Modelling"
   ]
  },
  {
   "cell_type": "code",
   "execution_count": 485,
   "metadata": {},
   "outputs": [],
   "source": [
    "from sklearn.tree import DecisionTreeClassifier\n",
    "from sklearn.ensemble import RandomForestClassifier\n",
    "from sklearn.svm import SVC\n",
    "from sklearn.linear_model import LogisticRegression\n",
    "from sklearn.preprocessing import LabelEncoder\n",
    "from sklearn.neighbors import KNeighborsClassifier\n",
    "from sklearn.model_selection import train_test_split\n",
    "from sklearn.metrics import accuracy_score\n",
    "from sklearn.metrics import f1_score\n",
    "from sklearn.metrics import precision_score, mean_squared_error, roc_auc_score, auc, roc_curve, recall_score, confusion_matrix\n",
    "\n",
    "\n"
   ]
  },
  {
   "cell_type": "code",
   "execution_count": 486,
   "metadata": {},
   "outputs": [],
   "source": [
    "X = df.drop(columns=\"value\")\n",
    "y = df[\"value\"]\n",
    "X_train, X_test, y_train, y_test = train_test_split(X, y, test_size=0.2, random_state=42)"
   ]
  },
  {
   "cell_type": "code",
   "execution_count": 487,
   "metadata": {},
   "outputs": [
    {
     "data": {
      "text/html": [
       "<div>\n",
       "<style scoped>\n",
       "    .dataframe tbody tr th:only-of-type {\n",
       "        vertical-align: middle;\n",
       "    }\n",
       "\n",
       "    .dataframe tbody tr th {\n",
       "        vertical-align: top;\n",
       "    }\n",
       "\n",
       "    .dataframe thead th {\n",
       "        text-align: right;\n",
       "    }\n",
       "</style>\n",
       "<table border=\"1\" class=\"dataframe\">\n",
       "  <thead>\n",
       "    <tr style=\"text-align: right;\">\n",
       "      <th></th>\n",
       "      <th>red_freq</th>\n",
       "      <th>green_freq</th>\n",
       "      <th>blue_freq</th>\n",
       "      <th>r-g</th>\n",
       "      <th>r-b</th>\n",
       "      <th>g-b</th>\n",
       "      <th>rgb</th>\n",
       "      <th>r+g+b</th>\n",
       "    </tr>\n",
       "  </thead>\n",
       "  <tbody>\n",
       "    <tr>\n",
       "      <th>1226</th>\n",
       "      <td>73</td>\n",
       "      <td>85</td>\n",
       "      <td>72</td>\n",
       "      <td>-12</td>\n",
       "      <td>1</td>\n",
       "      <td>13</td>\n",
       "      <td>446760</td>\n",
       "      <td>230</td>\n",
       "    </tr>\n",
       "    <tr>\n",
       "      <th>1761</th>\n",
       "      <td>64</td>\n",
       "      <td>87</td>\n",
       "      <td>77</td>\n",
       "      <td>-23</td>\n",
       "      <td>-13</td>\n",
       "      <td>10</td>\n",
       "      <td>428736</td>\n",
       "      <td>228</td>\n",
       "    </tr>\n",
       "    <tr>\n",
       "      <th>842</th>\n",
       "      <td>65</td>\n",
       "      <td>81</td>\n",
       "      <td>85</td>\n",
       "      <td>-16</td>\n",
       "      <td>-20</td>\n",
       "      <td>-4</td>\n",
       "      <td>447525</td>\n",
       "      <td>231</td>\n",
       "    </tr>\n",
       "    <tr>\n",
       "      <th>407</th>\n",
       "      <td>74</td>\n",
       "      <td>85</td>\n",
       "      <td>77</td>\n",
       "      <td>-11</td>\n",
       "      <td>-3</td>\n",
       "      <td>8</td>\n",
       "      <td>484330</td>\n",
       "      <td>236</td>\n",
       "    </tr>\n",
       "    <tr>\n",
       "      <th>295</th>\n",
       "      <td>76</td>\n",
       "      <td>88</td>\n",
       "      <td>81</td>\n",
       "      <td>-12</td>\n",
       "      <td>-5</td>\n",
       "      <td>7</td>\n",
       "      <td>541728</td>\n",
       "      <td>245</td>\n",
       "    </tr>\n",
       "    <tr>\n",
       "      <th>...</th>\n",
       "      <td>...</td>\n",
       "      <td>...</td>\n",
       "      <td>...</td>\n",
       "      <td>...</td>\n",
       "      <td>...</td>\n",
       "      <td>...</td>\n",
       "      <td>...</td>\n",
       "      <td>...</td>\n",
       "    </tr>\n",
       "    <tr>\n",
       "      <th>1154</th>\n",
       "      <td>81</td>\n",
       "      <td>99</td>\n",
       "      <td>82</td>\n",
       "      <td>-18</td>\n",
       "      <td>-1</td>\n",
       "      <td>17</td>\n",
       "      <td>657558</td>\n",
       "      <td>262</td>\n",
       "    </tr>\n",
       "    <tr>\n",
       "      <th>1318</th>\n",
       "      <td>71</td>\n",
       "      <td>73</td>\n",
       "      <td>70</td>\n",
       "      <td>-2</td>\n",
       "      <td>1</td>\n",
       "      <td>3</td>\n",
       "      <td>362810</td>\n",
       "      <td>214</td>\n",
       "    </tr>\n",
       "    <tr>\n",
       "      <th>884</th>\n",
       "      <td>66</td>\n",
       "      <td>85</td>\n",
       "      <td>87</td>\n",
       "      <td>-19</td>\n",
       "      <td>-21</td>\n",
       "      <td>-2</td>\n",
       "      <td>488070</td>\n",
       "      <td>238</td>\n",
       "    </tr>\n",
       "    <tr>\n",
       "      <th>1483</th>\n",
       "      <td>91</td>\n",
       "      <td>99</td>\n",
       "      <td>98</td>\n",
       "      <td>-8</td>\n",
       "      <td>-7</td>\n",
       "      <td>1</td>\n",
       "      <td>882882</td>\n",
       "      <td>288</td>\n",
       "    </tr>\n",
       "    <tr>\n",
       "      <th>1150</th>\n",
       "      <td>76</td>\n",
       "      <td>93</td>\n",
       "      <td>78</td>\n",
       "      <td>-17</td>\n",
       "      <td>-2</td>\n",
       "      <td>15</td>\n",
       "      <td>551304</td>\n",
       "      <td>247</td>\n",
       "    </tr>\n",
       "  </tbody>\n",
       "</table>\n",
       "<p>1507 rows × 8 columns</p>\n",
       "</div>"
      ],
      "text/plain": [
       "      red_freq  green_freq  blue_freq  r-g  r-b  g-b     rgb  r+g+b\n",
       "1226        73          85         72  -12    1   13  446760    230\n",
       "1761        64          87         77  -23  -13   10  428736    228\n",
       "842         65          81         85  -16  -20   -4  447525    231\n",
       "407         74          85         77  -11   -3    8  484330    236\n",
       "295         76          88         81  -12   -5    7  541728    245\n",
       "...        ...         ...        ...  ...  ...  ...     ...    ...\n",
       "1154        81          99         82  -18   -1   17  657558    262\n",
       "1318        71          73         70   -2    1    3  362810    214\n",
       "884         66          85         87  -19  -21   -2  488070    238\n",
       "1483        91          99         98   -8   -7    1  882882    288\n",
       "1150        76          93         78  -17   -2   15  551304    247\n",
       "\n",
       "[1507 rows x 8 columns]"
      ]
     },
     "metadata": {},
     "output_type": "display_data"
    },
    {
     "data": {
      "text/plain": [
       "1226     10000\n",
       "1761    100000\n",
       "842       5000\n",
       "407       1000\n",
       "295       1000\n",
       "         ...  \n",
       "1154     10000\n",
       "1318     20000\n",
       "884       5000\n",
       "1483     20000\n",
       "1150     10000\n",
       "Name: value, Length: 1507, dtype: object"
      ]
     },
     "metadata": {},
     "output_type": "display_data"
    }
   ],
   "source": [
    "display(X_train)\n",
    "display(y_train)"
   ]
  },
  {
   "cell_type": "code",
   "execution_count": 488,
   "metadata": {},
   "outputs": [],
   "source": [
    "# decision_tree = DecisionTreeClassifier(random_state=42)\n",
    "# random_forest = RandomForestClassifier(random_state=42)\n",
    "# svc = SVC(kernel=\"linear\", random_state=42)\n",
    "# logistic_regression = LogisticRegression(random_state=42)\n",
    "# knn = KNeighborsClassifier(n_neighbors=6)\n",
    "# models = [(\"Decision Tree\",decision_tree), (\"Random Forest\", random_forest), (\"SVC\", svc), (\"Logistic Regression\", logistic_regression), (\"KNN\", knn) ]\n",
    "xgb = XGBClassifier(learning_rate = 0.01, gamma = 0.1, max_depth = 9, n_estimators = 200)\n",
    "xgb_model = (\"XGBoost\", xgb)"
   ]
  },
  {
   "cell_type": "code",
   "execution_count": 489,
   "metadata": {},
   "outputs": [],
   "source": [
    "from sklearn.preprocessing import LabelEncoder\n",
    "\n",
    "label = {\n",
    "    \"1000\":0,\n",
    "    \"2000\":1,\n",
    "    \"5000\":2,\n",
    "    \"10000\":3,\n",
    "    \"20000\":4,\n",
    "    \"50000\":5,\n",
    "    \"100000\":6\n",
    "}\n",
    "\n",
    "# Create a custom LabelEncoder class\n",
    "class CustomLabelEncoder(LabelEncoder):\n",
    "    def __init__(self, label_dict):\n",
    "        self.label_dict = label_dict\n",
    "        super().__init__()\n",
    "\n",
    "    def fit(self, y):\n",
    "        super().fit(y)\n",
    "        self.classes_ = [self.label_dict[label] for label in self.classes_]\n",
    "\n",
    "    def transform(self, y):\n",
    "        return super().transform(y)\n",
    "\n",
    "    def inverse_transform(self, y):\n",
    "        y_original = [list(self.label_dict.keys())[list(self.label_dict.values()).index(encoded)] for encoded in y]\n",
    "        return y_original\n",
    "    \n",
    "\n",
    "# Initialize the LabelEncoder\n",
    "label_encoder = CustomLabelEncoder(label)\n",
    "\n",
    "# Fit the LabelEncoder to your target classes and transform them\n",
    "y_train_encoded = label_encoder.fit_transform(y_train)"
   ]
  },
  {
   "cell_type": "code",
   "execution_count": 490,
   "metadata": {},
   "outputs": [
    {
     "name": "stdout",
     "output_type": "stream",
     "text": [
      "[1 2 5 ... 5 4 1]\n"
     ]
    }
   ],
   "source": [
    "print(y_train_encoded)"
   ]
  },
  {
   "cell_type": "markdown",
   "metadata": {},
   "source": [
    "### Training"
   ]
  },
  {
   "cell_type": "code",
   "execution_count": 491,
   "metadata": {},
   "outputs": [
    {
     "data": {
      "text/html": [
       "<style>#sk-container-id-39 {color: black;}#sk-container-id-39 pre{padding: 0;}#sk-container-id-39 div.sk-toggleable {background-color: white;}#sk-container-id-39 label.sk-toggleable__label {cursor: pointer;display: block;width: 100%;margin-bottom: 0;padding: 0.3em;box-sizing: border-box;text-align: center;}#sk-container-id-39 label.sk-toggleable__label-arrow:before {content: \"▸\";float: left;margin-right: 0.25em;color: #696969;}#sk-container-id-39 label.sk-toggleable__label-arrow:hover:before {color: black;}#sk-container-id-39 div.sk-estimator:hover label.sk-toggleable__label-arrow:before {color: black;}#sk-container-id-39 div.sk-toggleable__content {max-height: 0;max-width: 0;overflow: hidden;text-align: left;background-color: #f0f8ff;}#sk-container-id-39 div.sk-toggleable__content pre {margin: 0.2em;color: black;border-radius: 0.25em;background-color: #f0f8ff;}#sk-container-id-39 input.sk-toggleable__control:checked~div.sk-toggleable__content {max-height: 200px;max-width: 100%;overflow: auto;}#sk-container-id-39 input.sk-toggleable__control:checked~label.sk-toggleable__label-arrow:before {content: \"▾\";}#sk-container-id-39 div.sk-estimator input.sk-toggleable__control:checked~label.sk-toggleable__label {background-color: #d4ebff;}#sk-container-id-39 div.sk-label input.sk-toggleable__control:checked~label.sk-toggleable__label {background-color: #d4ebff;}#sk-container-id-39 input.sk-hidden--visually {border: 0;clip: rect(1px 1px 1px 1px);clip: rect(1px, 1px, 1px, 1px);height: 1px;margin: -1px;overflow: hidden;padding: 0;position: absolute;width: 1px;}#sk-container-id-39 div.sk-estimator {font-family: monospace;background-color: #f0f8ff;border: 1px dotted black;border-radius: 0.25em;box-sizing: border-box;margin-bottom: 0.5em;}#sk-container-id-39 div.sk-estimator:hover {background-color: #d4ebff;}#sk-container-id-39 div.sk-parallel-item::after {content: \"\";width: 100%;border-bottom: 1px solid gray;flex-grow: 1;}#sk-container-id-39 div.sk-label:hover label.sk-toggleable__label {background-color: #d4ebff;}#sk-container-id-39 div.sk-serial::before {content: \"\";position: absolute;border-left: 1px solid gray;box-sizing: border-box;top: 0;bottom: 0;left: 50%;z-index: 0;}#sk-container-id-39 div.sk-serial {display: flex;flex-direction: column;align-items: center;background-color: white;padding-right: 0.2em;padding-left: 0.2em;position: relative;}#sk-container-id-39 div.sk-item {position: relative;z-index: 1;}#sk-container-id-39 div.sk-parallel {display: flex;align-items: stretch;justify-content: center;background-color: white;position: relative;}#sk-container-id-39 div.sk-item::before, #sk-container-id-39 div.sk-parallel-item::before {content: \"\";position: absolute;border-left: 1px solid gray;box-sizing: border-box;top: 0;bottom: 0;left: 50%;z-index: -1;}#sk-container-id-39 div.sk-parallel-item {display: flex;flex-direction: column;z-index: 1;position: relative;background-color: white;}#sk-container-id-39 div.sk-parallel-item:first-child::after {align-self: flex-end;width: 50%;}#sk-container-id-39 div.sk-parallel-item:last-child::after {align-self: flex-start;width: 50%;}#sk-container-id-39 div.sk-parallel-item:only-child::after {width: 0;}#sk-container-id-39 div.sk-dashed-wrapped {border: 1px dashed gray;margin: 0 0.4em 0.5em 0.4em;box-sizing: border-box;padding-bottom: 0.4em;background-color: white;}#sk-container-id-39 div.sk-label label {font-family: monospace;font-weight: bold;display: inline-block;line-height: 1.2em;}#sk-container-id-39 div.sk-label-container {text-align: center;}#sk-container-id-39 div.sk-container {/* jupyter's `normalize.less` sets `[hidden] { display: none; }` but bootstrap.min.css set `[hidden] { display: none !important; }` so we also need the `!important` here to be able to override the default hidden behavior on the sphinx rendered scikit-learn.org. See: https://github.com/scikit-learn/scikit-learn/issues/21755 */display: inline-block !important;position: relative;}#sk-container-id-39 div.sk-text-repr-fallback {display: none;}</style><div id=\"sk-container-id-39\" class=\"sk-top-container\"><div class=\"sk-text-repr-fallback\"><pre>XGBClassifier(base_score=None, booster=None, callbacks=None,\n",
       "              colsample_bylevel=None, colsample_bynode=None,\n",
       "              colsample_bytree=None, early_stopping_rounds=None,\n",
       "              enable_categorical=False, eval_metric=None, feature_types=None,\n",
       "              gamma=0.1, gpu_id=None, grow_policy=None, importance_type=None,\n",
       "              interaction_constraints=None, learning_rate=0.01, max_bin=None,\n",
       "              max_cat_threshold=None, max_cat_to_onehot=None,\n",
       "              max_delta_step=None, max_depth=9, max_leaves=None,\n",
       "              min_child_weight=None, missing=nan, monotone_constraints=None,\n",
       "              n_estimators=200, n_jobs=None, num_parallel_tree=None,\n",
       "              objective=&#x27;multi:softprob&#x27;, predictor=None, ...)</pre><b>In a Jupyter environment, please rerun this cell to show the HTML representation or trust the notebook. <br />On GitHub, the HTML representation is unable to render, please try loading this page with nbviewer.org.</b></div><div class=\"sk-container\" hidden><div class=\"sk-item\"><div class=\"sk-estimator sk-toggleable\"><input class=\"sk-toggleable__control sk-hidden--visually\" id=\"sk-estimator-id-39\" type=\"checkbox\" checked><label for=\"sk-estimator-id-39\" class=\"sk-toggleable__label sk-toggleable__label-arrow\">XGBClassifier</label><div class=\"sk-toggleable__content\"><pre>XGBClassifier(base_score=None, booster=None, callbacks=None,\n",
       "              colsample_bylevel=None, colsample_bynode=None,\n",
       "              colsample_bytree=None, early_stopping_rounds=None,\n",
       "              enable_categorical=False, eval_metric=None, feature_types=None,\n",
       "              gamma=0.1, gpu_id=None, grow_policy=None, importance_type=None,\n",
       "              interaction_constraints=None, learning_rate=0.01, max_bin=None,\n",
       "              max_cat_threshold=None, max_cat_to_onehot=None,\n",
       "              max_delta_step=None, max_depth=9, max_leaves=None,\n",
       "              min_child_weight=None, missing=nan, monotone_constraints=None,\n",
       "              n_estimators=200, n_jobs=None, num_parallel_tree=None,\n",
       "              objective=&#x27;multi:softprob&#x27;, predictor=None, ...)</pre></div></div></div></div></div>"
      ],
      "text/plain": [
       "XGBClassifier(base_score=None, booster=None, callbacks=None,\n",
       "              colsample_bylevel=None, colsample_bynode=None,\n",
       "              colsample_bytree=None, early_stopping_rounds=None,\n",
       "              enable_categorical=False, eval_metric=None, feature_types=None,\n",
       "              gamma=0.1, gpu_id=None, grow_policy=None, importance_type=None,\n",
       "              interaction_constraints=None, learning_rate=0.01, max_bin=None,\n",
       "              max_cat_threshold=None, max_cat_to_onehot=None,\n",
       "              max_delta_step=None, max_depth=9, max_leaves=None,\n",
       "              min_child_weight=None, missing=nan, monotone_constraints=None,\n",
       "              n_estimators=200, n_jobs=None, num_parallel_tree=None,\n",
       "              objective='multi:softprob', predictor=None, ...)"
      ]
     },
     "execution_count": 491,
     "metadata": {},
     "output_type": "execute_result"
    }
   ],
   "source": [
    "# for i in models:\n",
    "#     i[1].fit(X_train, y_train)\n",
    "from sklearn.model_selection import RandomizedSearchCV, GridSearchCV\n",
    "\n",
    "param_dist = {\n",
    "    'n_estimators': [100, 200, 300],\n",
    "    'max_depth': [3, 4, 5],\n",
    "    'learning_rate': [0.1, 0.01, 0.001],\n",
    "    'min_child_weight': [1, 2, 3],\n",
    "    'gamma': [0, 0.1, 0.2],\n",
    "    'subsample': [0.8, 0.9, 1.0],\n",
    "    'colsample_bytree': [0.8, 0.9, 1.0]\n",
    "}\n",
    "\n",
    "random_search = RandomizedSearchCV(\n",
    "    estimator=xgb,\n",
    "    param_distributions=param_dist,\n",
    "    n_iter=10,  # Number of random combinations to try\n",
    "    cv=3,  # Number of cross-validation folds\n",
    "    scoring='accuracy',\n",
    "    verbose=1,\n",
    "    n_jobs=-1,  # Use all available CPU cores for parallel processing\n",
    "    random_state=42  # Set a random seed for reproducibility\n",
    ")\n",
    "\n",
    "# random_search.fit(X_train, y_train_encoded)\n",
    "\n",
    "xgb.fit(X_train, y_train_encoded)\n",
    "\n",
    "# best_params = random_search.best_params_\n",
    "# best_xgb_model = random_search.best_estimator_\n",
    "# print(best_params)\n",
    "# print(best_xgb_model)\n",
    "\n",
    "# best_xgb = (\"XGBoost\", best_xgb_model)\n",
    "\n",
    "\n",
    "\n"
   ]
  },
  {
   "cell_type": "markdown",
   "metadata": {},
   "source": [
    "### Prediction"
   ]
  },
  {
   "cell_type": "code",
   "execution_count": 492,
   "metadata": {},
   "outputs": [
    {
     "name": "stdout",
     "output_type": "stream",
     "text": [
      "XGBoost f1 score= 0.93874108160741\n",
      "XGBoost accuracy = 0.9389920424403183\n",
      "XGBoost precision = 0.9541688470259899\n",
      "XGBoost recall = 0.9476247489000676\n",
      "['100000', '100000', '50000', '50000', '50000', '10000', '1000', '20000', '10000', '5000', '2000', '5000', '100000', '5000', '2000', '20000', '20000', '5000', '5000', '10000', '2000', '2000', '2000', '20000', '1000', '100000', '1000', '5000', '1000', '1000', '50000', '50000', '10000', '20000', '50000', '50000', '100000', '1000', '1000', '2000', '10000', '2000', '50000', '10000', '1000', '10000', '2000', '100000', '10000', '2000', '2000', '2000', '50000', '20000', '50000', '2000', '5000', '10000', '2000', '10000', '20000', '20000', '1000', '50000', '50000', '50000', '1000', '5000', '5000', '10000', '10000', '1000', '1000', '50000', '20000', '1000', '20000', '20000', '50000', '1000', '5000', '50000', '20000', '100000', '5000', '2000', '1000', '10000', '1000', '10000', '20000', '20000', '1000', '1000', '20000', '5000', '50000', '1000', '5000', '1000', '10000', '1000', '100000', '10000', '10000', '100000', '1000', '100000', '20000', '2000', '20000', '10000', '20000', '2000', '100000', '50000', '1000', '10000', '5000', '5000', '1000', '5000', '20000', '2000', '2000', '10000', '1000', '5000', '5000', '1000', '50000', '50000', '5000', '100000', '5000', '20000', '10000', '2000', '20000', '1000', '2000', '1000', '10000', '100000', '10000', '1000', '1000', '1000', '2000', '20000', '20000', '5000', '10000', '1000', '20000', '10000', '100000', '10000', '5000', '50000', '2000', '2000', '50000', '100000', '2000', '10000', '100000', '1000', '50000', '5000', '2000', '1000', '50000', '5000', '20000', '20000', '10000', '1000', '1000', '20000', '2000', '1000', '2000', '10000', '50000', '50000', '1000', '50000', '100000', '50000', '1000', '10000', '1000', '20000', '10000', '100000', '5000', '1000', '10000', '10000', '1000', '2000', '2000', '1000', '20000', '50000', '1000', '20000', '20000', '5000', '1000', '50000', '5000', '1000', '1000', '1000', '2000', '10000', '1000', '2000', '10000', '1000', '1000', '1000', '10000', '50000', '2000', '100000', '2000', '10000', '20000', '20000', '5000', '1000', '20000', '1000', '2000', '10000', '20000', '20000', '1000', '1000', '1000', '5000', '100000', '1000', '2000', '10000', '2000', '10000', '1000', '100000', '10000', '2000', '10000', '20000', '10000', '2000', '20000', '20000', '5000', '2000', '50000', '1000', '20000', '50000', '20000', '1000', '5000', '1000', '10000', '1000', '5000', '5000', '5000', '1000', '1000', '5000', '50000', '1000', '2000', '1000', '100000', '100000', '1000', '20000', '10000', '100000', '2000', '20000', '50000', '100000', '50000', '100000', '1000', '1000', '50000', '50000', '50000', '1000', '1000', '20000', '1000', '20000', '20000', '100000', '2000', '1000', '1000', '1000', '50000', '1000', '1000', '5000', '20000', '2000', '50000', '5000', '1000', '50000', '20000', '50000', '100000', '20000', '100000', '1000', '20000', '5000', '20000', '2000', '50000', '1000', '50000', '1000', '100000', '10000', '50000', '100000', '100000', '100000', '100000', '2000', '2000', '1000', '20000', '1000', '1000', '50000', '10000', '10000', '1000', '20000', '10000', '10000', '5000', '2000', '100000', '50000', '20000', '10000', '1000', '5000', '5000', '10000', '2000', '1000', '2000', '10000', '10000', '50000', '2000', '1000', '2000', '2000', '5000', '1000', '100000']\n"
     ]
    },
    {
     "data": {
      "image/png": "[encoded data removed]",
      "text/plain": [
       "<Figure size 576x432 with 2 Axes>"
      ]
     },
     "metadata": {
      "needs_background": "light"
     },
     "output_type": "display_data"
    }
   ],
   "source": [
    "# model_names = []\n",
    "# y_preds = []\n",
    "\n",
    "\n",
    "# for model in models:    \n",
    "#     y_pred = model[1].predict(X_test)\n",
    "\n",
    "#     # Calculate the confusion matrix\n",
    "#     # confusion = confusion_matrix(y_true=y_test, y_pred=y_pred)\n",
    "\n",
    "#     # # Print the confusion matrix\n",
    "#     # print(f\"Confusion matrix for {model[0]}:\")\n",
    "#     # print(confusion)\n",
    "\n",
    "#     f1 = f1_score(y_true=y_test, y_pred=y_pred, average='weighted')\n",
    "#     accuracy = accuracy_score(y_true=y_test, y_pred=y_pred)\n",
    "#     precision = precision_score(y_test, y_pred, average='micro')\n",
    "#     mse = mean_squared_error(y_test, y_pred)\n",
    "#     recall = recall_score(y_test, y_pred, average='micro')\n",
    "#     print(f\"{model[0]} f1 score= {f1}\")\n",
    "#     print(f\"{model[0]} accuracy = {accuracy}\")\n",
    "#     print(f\"{model[0]} precision = {precision}\")\n",
    "#     print(f\"{model[0]} recall = {recall}\")\n",
    "#     print(f\"{model[0]} mse = {mse}\")\n",
    "#     confusion = confusion_matrix(y_true=y_test, y_pred=y_pred, labels=sorted(set(y_test)))\n",
    "#     model_name = model[0]\n",
    "\n",
    "#     # Create a heatmap for the confusion matrix\n",
    "#     plt.figure(figsize=(8, 6))\n",
    "#     sns.heatmap(confusion, annot=True, fmt=\"d\", cmap=\"Blues\",\n",
    "#                 xticklabels=sorted(set(y_test)), yticklabels=sorted(set(y_test)))\n",
    "#     plt.title(f\"Confusion Matrix for {model_name}\")\n",
    "#     plt.xlabel(\"Predicted Labels\")\n",
    "#     plt.ylabel(\"True Labels\")\n",
    "#     plt.show()\n",
    "\n",
    "y_test = label_encoder.fit_transform(y_test)\n",
    "\n",
    "\n",
    "y_pred = xgb_model[1].predict(X_test)\n",
    "\n",
    "# Calculate the confusion matrix\n",
    "# confusion = confusion_matrix(y_true=y_test, y_pred=y_pred)\n",
    "\n",
    "# # Print the confusion matrix\n",
    "# print(f\"Confusion matrix for {xgb_model[0]}:\")\n",
    "# print(confusion)\n",
    "y_test = label_encoder.inverse_transform(y_test)\n",
    "y_pred = label_encoder.inverse_transform(y_pred)\n",
    "f1 = f1_score(y_true=y_test, y_pred=y_pred, average='weighted')\n",
    "accuracy = accuracy_score(y_true=y_test, y_pred=y_pred)\n",
    "precision = precision_score(y_test, y_pred, average='macro')\n",
    "recall = recall_score(y_test, y_pred, average='macro')\n",
    "print(f\"{xgb_model[0]} f1 score= {f1}\")\n",
    "print(f\"{xgb_model[0]} accuracy = {accuracy}\")\n",
    "print(f\"{xgb_model[0]} precision = {precision}\")\n",
    "print(f\"{xgb_model[0]} recall = {recall}\")\n",
    "print(y_pred)\n",
    "confusion = confusion_matrix(y_true=y_test, y_pred=y_pred, labels=sorted(set(y_test)))\n",
    "xgb_model_name = xgb_model[0]\n",
    "\n",
    "# Create a heatmap for the confusion matrix\n",
    "plt.figure(figsize=(8, 6))\n",
    "sns.heatmap(confusion, annot=True, fmt=\"d\", cmap=\"Blues\",\n",
    "            xticklabels=sorted(set(y_test)), yticklabels=sorted(set(y_test)))\n",
    "plt.title(f\"Confusion Matrix for {xgb_model_name}\")\n",
    "plt.xlabel(\"Predicted Labels\")\n",
    "plt.ylabel(\"True Labels\")\n",
    "plt.show()"
   ]
  },
  {
   "cell_type": "markdown",
   "metadata": {},
   "source": [
    "### Analisis hasil prediksi"
   ]
  },
  {
   "cell_type": "markdown",
   "metadata": {},
   "source": [
    "Dari hasil prediksi, model decision tree dan random forest memiliki akurasi tertinggi yaitu sekitar 95%"
   ]
  },
  {
   "cell_type": "markdown",
   "metadata": {},
   "source": [
    "### pemilihan model setelah hasil analisis"
   ]
  },
  {
   "cell_type": "code",
   "execution_count": 493,
   "metadata": {},
   "outputs": [
    {
     "name": "stdout",
     "output_type": "stream",
     "text": [
      "[0 0 0 ... 2 2 2]\n"
     ]
    },
    {
     "data": {
      "text/html": [
       "<style>#sk-container-id-40 {color: black;}#sk-container-id-40 pre{padding: 0;}#sk-container-id-40 div.sk-toggleable {background-color: white;}#sk-container-id-40 label.sk-toggleable__label {cursor: pointer;display: block;width: 100%;margin-bottom: 0;padding: 0.3em;box-sizing: border-box;text-align: center;}#sk-container-id-40 label.sk-toggleable__label-arrow:before {content: \"▸\";float: left;margin-right: 0.25em;color: #696969;}#sk-container-id-40 label.sk-toggleable__label-arrow:hover:before {color: black;}#sk-container-id-40 div.sk-estimator:hover label.sk-toggleable__label-arrow:before {color: black;}#sk-container-id-40 div.sk-toggleable__content {max-height: 0;max-width: 0;overflow: hidden;text-align: left;background-color: #f0f8ff;}#sk-container-id-40 div.sk-toggleable__content pre {margin: 0.2em;color: black;border-radius: 0.25em;background-color: #f0f8ff;}#sk-container-id-40 input.sk-toggleable__control:checked~div.sk-toggleable__content {max-height: 200px;max-width: 100%;overflow: auto;}#sk-container-id-40 input.sk-toggleable__control:checked~label.sk-toggleable__label-arrow:before {content: \"▾\";}#sk-container-id-40 div.sk-estimator input.sk-toggleable__control:checked~label.sk-toggleable__label {background-color: #d4ebff;}#sk-container-id-40 div.sk-label input.sk-toggleable__control:checked~label.sk-toggleable__label {background-color: #d4ebff;}#sk-container-id-40 input.sk-hidden--visually {border: 0;clip: rect(1px 1px 1px 1px);clip: rect(1px, 1px, 1px, 1px);height: 1px;margin: -1px;overflow: hidden;padding: 0;position: absolute;width: 1px;}#sk-container-id-40 div.sk-estimator {font-family: monospace;background-color: #f0f8ff;border: 1px dotted black;border-radius: 0.25em;box-sizing: border-box;margin-bottom: 0.5em;}#sk-container-id-40 div.sk-estimator:hover {background-color: #d4ebff;}#sk-container-id-40 div.sk-parallel-item::after {content: \"\";width: 100%;border-bottom: 1px solid gray;flex-grow: 1;}#sk-container-id-40 div.sk-label:hover label.sk-toggleable__label {background-color: #d4ebff;}#sk-container-id-40 div.sk-serial::before {content: \"\";position: absolute;border-left: 1px solid gray;box-sizing: border-box;top: 0;bottom: 0;left: 50%;z-index: 0;}#sk-container-id-40 div.sk-serial {display: flex;flex-direction: column;align-items: center;background-color: white;padding-right: 0.2em;padding-left: 0.2em;position: relative;}#sk-container-id-40 div.sk-item {position: relative;z-index: 1;}#sk-container-id-40 div.sk-parallel {display: flex;align-items: stretch;justify-content: center;background-color: white;position: relative;}#sk-container-id-40 div.sk-item::before, #sk-container-id-40 div.sk-parallel-item::before {content: \"\";position: absolute;border-left: 1px solid gray;box-sizing: border-box;top: 0;bottom: 0;left: 50%;z-index: -1;}#sk-container-id-40 div.sk-parallel-item {display: flex;flex-direction: column;z-index: 1;position: relative;background-color: white;}#sk-container-id-40 div.sk-parallel-item:first-child::after {align-self: flex-end;width: 50%;}#sk-container-id-40 div.sk-parallel-item:last-child::after {align-self: flex-start;width: 50%;}#sk-container-id-40 div.sk-parallel-item:only-child::after {width: 0;}#sk-container-id-40 div.sk-dashed-wrapped {border: 1px dashed gray;margin: 0 0.4em 0.5em 0.4em;box-sizing: border-box;padding-bottom: 0.4em;background-color: white;}#sk-container-id-40 div.sk-label label {font-family: monospace;font-weight: bold;display: inline-block;line-height: 1.2em;}#sk-container-id-40 div.sk-label-container {text-align: center;}#sk-container-id-40 div.sk-container {/* jupyter's `normalize.less` sets `[hidden] { display: none; }` but bootstrap.min.css set `[hidden] { display: none !important; }` so we also need the `!important` here to be able to override the default hidden behavior on the sphinx rendered scikit-learn.org. See: https://github.com/scikit-learn/scikit-learn/issues/21755 */display: inline-block !important;position: relative;}#sk-container-id-40 div.sk-text-repr-fallback {display: none;}</style><div id=\"sk-container-id-40\" class=\"sk-top-container\"><div class=\"sk-text-repr-fallback\"><pre>XGBClassifier(base_score=None, booster=None, callbacks=None,\n",
       "              colsample_bylevel=None, colsample_bynode=None,\n",
       "              colsample_bytree=None, early_stopping_rounds=None,\n",
       "              enable_categorical=False, eval_metric=None, feature_types=None,\n",
       "              gamma=0.1, gpu_id=None, grow_policy=None, importance_type=None,\n",
       "              interaction_constraints=None, learning_rate=1, max_bin=None,\n",
       "              max_cat_threshold=None, max_cat_to_onehot=None,\n",
       "              max_delta_step=None, max_depth=9, max_leaves=None,\n",
       "              min_child_weight=None, missing=nan, monotone_constraints=None,\n",
       "              n_estimators=500, n_jobs=None, num_parallel_tree=None,\n",
       "              objective=&#x27;multi:softprob&#x27;, predictor=None, ...)</pre><b>In a Jupyter environment, please rerun this cell to show the HTML representation or trust the notebook. <br />On GitHub, the HTML representation is unable to render, please try loading this page with nbviewer.org.</b></div><div class=\"sk-container\" hidden><div class=\"sk-item\"><div class=\"sk-estimator sk-toggleable\"><input class=\"sk-toggleable__control sk-hidden--visually\" id=\"sk-estimator-id-40\" type=\"checkbox\" checked><label for=\"sk-estimator-id-40\" class=\"sk-toggleable__label sk-toggleable__label-arrow\">XGBClassifier</label><div class=\"sk-toggleable__content\"><pre>XGBClassifier(base_score=None, booster=None, callbacks=None,\n",
       "              colsample_bylevel=None, colsample_bynode=None,\n",
       "              colsample_bytree=None, early_stopping_rounds=None,\n",
       "              enable_categorical=False, eval_metric=None, feature_types=None,\n",
       "              gamma=0.1, gpu_id=None, grow_policy=None, importance_type=None,\n",
       "              interaction_constraints=None, learning_rate=1, max_bin=None,\n",
       "              max_cat_threshold=None, max_cat_to_onehot=None,\n",
       "              max_delta_step=None, max_depth=9, max_leaves=None,\n",
       "              min_child_weight=None, missing=nan, monotone_constraints=None,\n",
       "              n_estimators=500, n_jobs=None, num_parallel_tree=None,\n",
       "              objective=&#x27;multi:softprob&#x27;, predictor=None, ...)</pre></div></div></div></div></div>"
      ],
      "text/plain": [
       "XGBClassifier(base_score=None, booster=None, callbacks=None,\n",
       "              colsample_bylevel=None, colsample_bynode=None,\n",
       "              colsample_bytree=None, early_stopping_rounds=None,\n",
       "              enable_categorical=False, eval_metric=None, feature_types=None,\n",
       "              gamma=0.1, gpu_id=None, grow_policy=None, importance_type=None,\n",
       "              interaction_constraints=None, learning_rate=1, max_bin=None,\n",
       "              max_cat_threshold=None, max_cat_to_onehot=None,\n",
       "              max_delta_step=None, max_depth=9, max_leaves=None,\n",
       "              min_child_weight=None, missing=nan, monotone_constraints=None,\n",
       "              n_estimators=500, n_jobs=None, num_parallel_tree=None,\n",
       "              objective='multi:softprob', predictor=None, ...)"
      ]
     },
     "execution_count": 493,
     "metadata": {},
     "output_type": "execute_result"
    }
   ],
   "source": [
    "# model = models[1][1]\n",
    "# model = KNeighborsClassifier(n_neighbors=20)\n",
    "model = XGBClassifier(random_state=42, learning_rate = 1, gamma = 0.1, max_depth = 9, n_estimators = 500)\n",
    "y = label_encoder.fit_transform(y)\n",
    "print(y)\n",
    "model.fit(X, y)\n"
   ]
  },
  {
   "cell_type": "markdown",
   "metadata": {},
   "source": [
    "### Import model"
   ]
  },
  {
   "cell_type": "code",
   "execution_count": 494,
   "metadata": {},
   "outputs": [],
   "source": [
    "# import joblib\n",
    "# model_filename = 'model.joblib'\n",
    "# joblib.dump(model, model_filename)\n",
    "model.save_model('xgboost_model.bin')# Assuming you have a trained XGBoost model object named 'model'\n",
    "model.save_model('xgboost_model.json')\n"
   ]
  }
 ],
 "metadata": {
  "kernelspec": {
   "display_name": "Python 3",
   "language": "python",
   "name": "python3"
  },
  "language_info": {
   "codemirror_mode": {
    "name": "ipython",
    "version": 3
   },
   "file_extension": ".py",
   "mimetype": "text/x-python",
   "name": "python",
   "nbconvert_exporter": "python",
   "pygments_lexer": "ipython3",
   "version": "3.9.4"
  },
  "orig_nbformat": 4
 },
 "nbformat": 4,
 "nbformat_minor": 2
}
