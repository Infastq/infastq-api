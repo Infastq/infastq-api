{
 "cells": [
  {
   "cell_type": "markdown",
   "metadata": {},
   "source": [
    "# IMPORT ALL REQUIREMENTS"
   ]
  },
  {
   "cell_type": "code",
   "execution_count": 1129,
   "metadata": {},
   "outputs": [],
   "source": [
    "import pandas as pd\n",
    "import numpy as np\n",
    "import seaborn as sns\n",
    "import matplotlib.pyplot as plt\n",
    "import math\n",
    "from xgboost import XGBClassifier"
   ]
  },
  {
   "cell_type": "markdown",
   "metadata": {},
   "source": [
    "## import data csv"
   ]
  },
  {
   "cell_type": "code",
   "execution_count": 1130,
   "metadata": {},
   "outputs": [],
   "source": [
    "# df = pd.read_csv(\"./Data Color.csv\")\n",
    "# df = pd.read_excel(\"./data_uang_gemastik.xlsx\")\n",
    "df = pd.read_csv(\"./data_colors.csv\")"
   ]
  },
  {
   "cell_type": "code",
   "execution_count": 1131,
   "metadata": {},
   "outputs": [
    {
     "data": {
      "text/html": [
       "<div>\n",
       "<style scoped>\n",
       "    .dataframe tbody tr th:only-of-type {\n",
       "        vertical-align: middle;\n",
       "    }\n",
       "\n",
       "    .dataframe tbody tr th {\n",
       "        vertical-align: top;\n",
       "    }\n",
       "\n",
       "    .dataframe thead th {\n",
       "        text-align: right;\n",
       "    }\n",
       "</style>\n",
       "<table border=\"1\" class=\"dataframe\">\n",
       "  <thead>\n",
       "    <tr style=\"text-align: right;\">\n",
       "      <th></th>\n",
       "      <th>red_freq</th>\n",
       "      <th>green_freq</th>\n",
       "      <th>blue_freq</th>\n",
       "      <th>value</th>\n",
       "    </tr>\n",
       "  </thead>\n",
       "  <tbody>\n",
       "    <tr>\n",
       "      <th>0</th>\n",
       "      <td>66</td>\n",
       "      <td>86</td>\n",
       "      <td>75</td>\n",
       "      <td>1000</td>\n",
       "    </tr>\n",
       "    <tr>\n",
       "      <th>1</th>\n",
       "      <td>66</td>\n",
       "      <td>86</td>\n",
       "      <td>75</td>\n",
       "      <td>1000</td>\n",
       "    </tr>\n",
       "    <tr>\n",
       "      <th>2</th>\n",
       "      <td>72</td>\n",
       "      <td>84</td>\n",
       "      <td>76</td>\n",
       "      <td>1000</td>\n",
       "    </tr>\n",
       "    <tr>\n",
       "      <th>3</th>\n",
       "      <td>72</td>\n",
       "      <td>84</td>\n",
       "      <td>76</td>\n",
       "      <td>1000</td>\n",
       "    </tr>\n",
       "    <tr>\n",
       "      <th>4</th>\n",
       "      <td>72</td>\n",
       "      <td>83</td>\n",
       "      <td>76</td>\n",
       "      <td>1000</td>\n",
       "    </tr>\n",
       "    <tr>\n",
       "      <th>...</th>\n",
       "      <td>...</td>\n",
       "      <td>...</td>\n",
       "      <td>...</td>\n",
       "      <td>...</td>\n",
       "    </tr>\n",
       "    <tr>\n",
       "      <th>1903</th>\n",
       "      <td>62</td>\n",
       "      <td>86</td>\n",
       "      <td>75</td>\n",
       "      <td>100000</td>\n",
       "    </tr>\n",
       "    <tr>\n",
       "      <th>1904</th>\n",
       "      <td>62</td>\n",
       "      <td>83</td>\n",
       "      <td>74</td>\n",
       "      <td>100000</td>\n",
       "    </tr>\n",
       "    <tr>\n",
       "      <th>1905</th>\n",
       "      <td>54</td>\n",
       "      <td>89</td>\n",
       "      <td>78</td>\n",
       "      <td>100000</td>\n",
       "    </tr>\n",
       "    <tr>\n",
       "      <th>1906</th>\n",
       "      <td>67</td>\n",
       "      <td>99</td>\n",
       "      <td>88</td>\n",
       "      <td>100000</td>\n",
       "    </tr>\n",
       "    <tr>\n",
       "      <th>1907</th>\n",
       "      <td>66</td>\n",
       "      <td>102</td>\n",
       "      <td>88</td>\n",
       "      <td>100000</td>\n",
       "    </tr>\n",
       "  </tbody>\n",
       "</table>\n",
       "<p>1908 rows × 4 columns</p>\n",
       "</div>"
      ],
      "text/plain": [
       "      red_freq  green_freq  blue_freq   value\n",
       "0           66          86         75    1000\n",
       "1           66          86         75    1000\n",
       "2           72          84         76    1000\n",
       "3           72          84         76    1000\n",
       "4           72          83         76    1000\n",
       "...        ...         ...        ...     ...\n",
       "1903        62          86         75  100000\n",
       "1904        62          83         74  100000\n",
       "1905        54          89         78  100000\n",
       "1906        67          99         88  100000\n",
       "1907        66         102         88  100000\n",
       "\n",
       "[1908 rows x 4 columns]"
      ]
     },
     "execution_count": 1131,
     "metadata": {},
     "output_type": "execute_result"
    }
   ],
   "source": [
    "df"
   ]
  },
  {
   "cell_type": "code",
   "execution_count": 1132,
   "metadata": {},
   "outputs": [
    {
     "data": {
      "text/plain": [
       "red_freq      int64\n",
       "green_freq    int64\n",
       "blue_freq     int64\n",
       "value         int64\n",
       "dtype: object"
      ]
     },
     "execution_count": 1132,
     "metadata": {},
     "output_type": "execute_result"
    }
   ],
   "source": [
    "df.dtypes"
   ]
  },
  {
   "cell_type": "markdown",
   "metadata": {},
   "source": []
  },
  {
   "cell_type": "markdown",
   "metadata": {},
   "source": [
    "# EDA"
   ]
  },
  {
   "cell_type": "code",
   "execution_count": null,
   "metadata": {},
   "outputs": [],
   "source": []
  },
  {
   "cell_type": "markdown",
   "metadata": {},
   "source": [
    "## Data Preprocessing and Feature Engineering"
   ]
  },
  {
   "cell_type": "code",
   "execution_count": 1133,
   "metadata": {},
   "outputs": [],
   "source": [
    "# drop the date time column\n",
    "\n",
    "# df = df.drop(columns=[\"Date\", \"Time\"])\n",
    "df.dropna(inplace=True)"
   ]
  },
  {
   "cell_type": "code",
   "execution_count": 1134,
   "metadata": {},
   "outputs": [
    {
     "data": {
      "text/html": [
       "<div>\n",
       "<style scoped>\n",
       "    .dataframe tbody tr th:only-of-type {\n",
       "        vertical-align: middle;\n",
       "    }\n",
       "\n",
       "    .dataframe tbody tr th {\n",
       "        vertical-align: top;\n",
       "    }\n",
       "\n",
       "    .dataframe thead th {\n",
       "        text-align: right;\n",
       "    }\n",
       "</style>\n",
       "<table border=\"1\" class=\"dataframe\">\n",
       "  <thead>\n",
       "    <tr style=\"text-align: right;\">\n",
       "      <th></th>\n",
       "      <th>red_freq</th>\n",
       "      <th>green_freq</th>\n",
       "      <th>blue_freq</th>\n",
       "      <th>value</th>\n",
       "    </tr>\n",
       "  </thead>\n",
       "  <tbody>\n",
       "    <tr>\n",
       "      <th>0</th>\n",
       "      <td>66</td>\n",
       "      <td>86</td>\n",
       "      <td>75</td>\n",
       "      <td>1000</td>\n",
       "    </tr>\n",
       "    <tr>\n",
       "      <th>1</th>\n",
       "      <td>66</td>\n",
       "      <td>86</td>\n",
       "      <td>75</td>\n",
       "      <td>1000</td>\n",
       "    </tr>\n",
       "    <tr>\n",
       "      <th>2</th>\n",
       "      <td>72</td>\n",
       "      <td>84</td>\n",
       "      <td>76</td>\n",
       "      <td>1000</td>\n",
       "    </tr>\n",
       "    <tr>\n",
       "      <th>3</th>\n",
       "      <td>72</td>\n",
       "      <td>84</td>\n",
       "      <td>76</td>\n",
       "      <td>1000</td>\n",
       "    </tr>\n",
       "    <tr>\n",
       "      <th>4</th>\n",
       "      <td>72</td>\n",
       "      <td>83</td>\n",
       "      <td>76</td>\n",
       "      <td>1000</td>\n",
       "    </tr>\n",
       "    <tr>\n",
       "      <th>...</th>\n",
       "      <td>...</td>\n",
       "      <td>...</td>\n",
       "      <td>...</td>\n",
       "      <td>...</td>\n",
       "    </tr>\n",
       "    <tr>\n",
       "      <th>1903</th>\n",
       "      <td>62</td>\n",
       "      <td>86</td>\n",
       "      <td>75</td>\n",
       "      <td>100000</td>\n",
       "    </tr>\n",
       "    <tr>\n",
       "      <th>1904</th>\n",
       "      <td>62</td>\n",
       "      <td>83</td>\n",
       "      <td>74</td>\n",
       "      <td>100000</td>\n",
       "    </tr>\n",
       "    <tr>\n",
       "      <th>1905</th>\n",
       "      <td>54</td>\n",
       "      <td>89</td>\n",
       "      <td>78</td>\n",
       "      <td>100000</td>\n",
       "    </tr>\n",
       "    <tr>\n",
       "      <th>1906</th>\n",
       "      <td>67</td>\n",
       "      <td>99</td>\n",
       "      <td>88</td>\n",
       "      <td>100000</td>\n",
       "    </tr>\n",
       "    <tr>\n",
       "      <th>1907</th>\n",
       "      <td>66</td>\n",
       "      <td>102</td>\n",
       "      <td>88</td>\n",
       "      <td>100000</td>\n",
       "    </tr>\n",
       "  </tbody>\n",
       "</table>\n",
       "<p>1908 rows × 4 columns</p>\n",
       "</div>"
      ],
      "text/plain": [
       "      red_freq  green_freq  blue_freq   value\n",
       "0           66          86         75    1000\n",
       "1           66          86         75    1000\n",
       "2           72          84         76    1000\n",
       "3           72          84         76    1000\n",
       "4           72          83         76    1000\n",
       "...        ...         ...        ...     ...\n",
       "1903        62          86         75  100000\n",
       "1904        62          83         74  100000\n",
       "1905        54          89         78  100000\n",
       "1906        67          99         88  100000\n",
       "1907        66         102         88  100000\n",
       "\n",
       "[1908 rows x 4 columns]"
      ]
     },
     "metadata": {},
     "output_type": "display_data"
    }
   ],
   "source": [
    "display(df)"
   ]
  },
  {
   "cell_type": "code",
   "execution_count": 1135,
   "metadata": {},
   "outputs": [],
   "source": [
    "df['value'] = df['value'].apply(lambda x: round(x)).astype(int).astype(str)\n",
    "\n",
    "# df['red_freq'] = df['red_freq']*2\n",
    "# df['green_freq'] = df['green_freq']*2\n",
    "# df['blue_freq'] = df['blue_freq']*2"
   ]
  },
  {
   "cell_type": "code",
   "execution_count": 1136,
   "metadata": {},
   "outputs": [
    {
     "data": {
      "image/png": "[encoded data removed]",
      "text/plain": [
       "<Figure size 360x360 with 1 Axes>"
      ]
     },
     "metadata": {
      "needs_background": "light"
     },
     "output_type": "display_data"
    },
    {
     "data": {
      "image/png": "[encoded data removed]",
      "text/plain": [
       "<Figure size 360x360 with 1 Axes>"
      ]
     },
     "metadata": {
      "needs_background": "light"
     },
     "output_type": "display_data"
    },
    {
     "data": {
      "image/png": "[encoded data removed]",
      "text/plain": [
       "<Figure size 360x360 with 1 Axes>"
      ]
     },
     "metadata": {
      "needs_background": "light"
     },
     "output_type": "display_data"
    },
    {
     "data": {
      "image/png": "[encoded data removed]",
      "text/plain": [
       "<Figure size 360x360 with 1 Axes>"
      ]
     },
     "metadata": {
      "needs_background": "light"
     },
     "output_type": "display_data"
    }
   ],
   "source": [
    "for i in df.columns:\n",
    "    sns.displot(data=df[i], color=\"red\")"
   ]
  },
  {
   "cell_type": "code",
   "execution_count": 1137,
   "metadata": {},
   "outputs": [
    {
     "data": {
      "text/html": [
       "<div>\n",
       "<style scoped>\n",
       "    .dataframe tbody tr th:only-of-type {\n",
       "        vertical-align: middle;\n",
       "    }\n",
       "\n",
       "    .dataframe tbody tr th {\n",
       "        vertical-align: top;\n",
       "    }\n",
       "\n",
       "    .dataframe thead th {\n",
       "        text-align: right;\n",
       "    }\n",
       "</style>\n",
       "<table border=\"1\" class=\"dataframe\">\n",
       "  <thead>\n",
       "    <tr style=\"text-align: right;\">\n",
       "      <th></th>\n",
       "      <th>red_freq</th>\n",
       "      <th>green_freq</th>\n",
       "      <th>blue_freq</th>\n",
       "      <th>value</th>\n",
       "    </tr>\n",
       "  </thead>\n",
       "  <tbody>\n",
       "    <tr>\n",
       "      <th>0</th>\n",
       "      <td>66</td>\n",
       "      <td>86</td>\n",
       "      <td>75</td>\n",
       "      <td>1000</td>\n",
       "    </tr>\n",
       "    <tr>\n",
       "      <th>1</th>\n",
       "      <td>66</td>\n",
       "      <td>86</td>\n",
       "      <td>75</td>\n",
       "      <td>1000</td>\n",
       "    </tr>\n",
       "    <tr>\n",
       "      <th>2</th>\n",
       "      <td>72</td>\n",
       "      <td>84</td>\n",
       "      <td>76</td>\n",
       "      <td>1000</td>\n",
       "    </tr>\n",
       "    <tr>\n",
       "      <th>3</th>\n",
       "      <td>72</td>\n",
       "      <td>84</td>\n",
       "      <td>76</td>\n",
       "      <td>1000</td>\n",
       "    </tr>\n",
       "    <tr>\n",
       "      <th>4</th>\n",
       "      <td>72</td>\n",
       "      <td>83</td>\n",
       "      <td>76</td>\n",
       "      <td>1000</td>\n",
       "    </tr>\n",
       "    <tr>\n",
       "      <th>...</th>\n",
       "      <td>...</td>\n",
       "      <td>...</td>\n",
       "      <td>...</td>\n",
       "      <td>...</td>\n",
       "    </tr>\n",
       "    <tr>\n",
       "      <th>1903</th>\n",
       "      <td>62</td>\n",
       "      <td>86</td>\n",
       "      <td>75</td>\n",
       "      <td>100000</td>\n",
       "    </tr>\n",
       "    <tr>\n",
       "      <th>1904</th>\n",
       "      <td>62</td>\n",
       "      <td>83</td>\n",
       "      <td>74</td>\n",
       "      <td>100000</td>\n",
       "    </tr>\n",
       "    <tr>\n",
       "      <th>1905</th>\n",
       "      <td>54</td>\n",
       "      <td>89</td>\n",
       "      <td>78</td>\n",
       "      <td>100000</td>\n",
       "    </tr>\n",
       "    <tr>\n",
       "      <th>1906</th>\n",
       "      <td>67</td>\n",
       "      <td>99</td>\n",
       "      <td>88</td>\n",
       "      <td>100000</td>\n",
       "    </tr>\n",
       "    <tr>\n",
       "      <th>1907</th>\n",
       "      <td>66</td>\n",
       "      <td>102</td>\n",
       "      <td>88</td>\n",
       "      <td>100000</td>\n",
       "    </tr>\n",
       "  </tbody>\n",
       "</table>\n",
       "<p>1908 rows × 4 columns</p>\n",
       "</div>"
      ],
      "text/plain": [
       "      red_freq  green_freq  blue_freq   value\n",
       "0           66          86         75    1000\n",
       "1           66          86         75    1000\n",
       "2           72          84         76    1000\n",
       "3           72          84         76    1000\n",
       "4           72          83         76    1000\n",
       "...        ...         ...        ...     ...\n",
       "1903        62          86         75  100000\n",
       "1904        62          83         74  100000\n",
       "1905        54          89         78  100000\n",
       "1906        67          99         88  100000\n",
       "1907        66         102         88  100000\n",
       "\n",
       "[1908 rows x 4 columns]"
      ]
     },
     "metadata": {},
     "output_type": "display_data"
    }
   ],
   "source": [
    "display(df)"
   ]
  },
  {
   "cell_type": "code",
   "execution_count": 1138,
   "metadata": {},
   "outputs": [],
   "source": [
    "## scaling dengan MinMaxScaler\n",
    "from sklearn.preprocessing import MinMaxScaler"
   ]
  },
  {
   "cell_type": "code",
   "execution_count": 1139,
   "metadata": {},
   "outputs": [],
   "source": [
    "# memex = MinMaxScaler()\n",
    "# col = [\"Red Freq\", \"Blue Freq\", \"Green Freq\"]\n",
    "# df[col] = memex.fit_transform(df[col])\n",
    "# display(df)"
   ]
  },
  {
   "cell_type": "markdown",
   "metadata": {},
   "source": [
    "## Feature Engineering"
   ]
  },
  {
   "cell_type": "markdown",
   "metadata": {},
   "source": [
    "setelah melihat pola pada nilai frekuensi r,g, dan b. ditemukan kemiripan untuk selisih r-g, r-b, dan g-b. maka akan dibuat feature baru pada data"
   ]
  },
  {
   "cell_type": "code",
   "execution_count": 1140,
   "metadata": {},
   "outputs": [
    {
     "data": {
      "text/html": [
       "<div>\n",
       "<style scoped>\n",
       "    .dataframe tbody tr th:only-of-type {\n",
       "        vertical-align: middle;\n",
       "    }\n",
       "\n",
       "    .dataframe tbody tr th {\n",
       "        vertical-align: top;\n",
       "    }\n",
       "\n",
       "    .dataframe thead th {\n",
       "        text-align: right;\n",
       "    }\n",
       "</style>\n",
       "<table border=\"1\" class=\"dataframe\">\n",
       "  <thead>\n",
       "    <tr style=\"text-align: right;\">\n",
       "      <th></th>\n",
       "      <th>red_freq</th>\n",
       "      <th>green_freq</th>\n",
       "      <th>blue_freq</th>\n",
       "      <th>value</th>\n",
       "    </tr>\n",
       "  </thead>\n",
       "  <tbody>\n",
       "    <tr>\n",
       "      <th>0</th>\n",
       "      <td>66</td>\n",
       "      <td>86</td>\n",
       "      <td>75</td>\n",
       "      <td>1000</td>\n",
       "    </tr>\n",
       "    <tr>\n",
       "      <th>1</th>\n",
       "      <td>66</td>\n",
       "      <td>86</td>\n",
       "      <td>75</td>\n",
       "      <td>1000</td>\n",
       "    </tr>\n",
       "    <tr>\n",
       "      <th>2</th>\n",
       "      <td>72</td>\n",
       "      <td>84</td>\n",
       "      <td>76</td>\n",
       "      <td>1000</td>\n",
       "    </tr>\n",
       "    <tr>\n",
       "      <th>3</th>\n",
       "      <td>72</td>\n",
       "      <td>84</td>\n",
       "      <td>76</td>\n",
       "      <td>1000</td>\n",
       "    </tr>\n",
       "    <tr>\n",
       "      <th>4</th>\n",
       "      <td>72</td>\n",
       "      <td>83</td>\n",
       "      <td>76</td>\n",
       "      <td>1000</td>\n",
       "    </tr>\n",
       "    <tr>\n",
       "      <th>...</th>\n",
       "      <td>...</td>\n",
       "      <td>...</td>\n",
       "      <td>...</td>\n",
       "      <td>...</td>\n",
       "    </tr>\n",
       "    <tr>\n",
       "      <th>1903</th>\n",
       "      <td>62</td>\n",
       "      <td>86</td>\n",
       "      <td>75</td>\n",
       "      <td>100000</td>\n",
       "    </tr>\n",
       "    <tr>\n",
       "      <th>1904</th>\n",
       "      <td>62</td>\n",
       "      <td>83</td>\n",
       "      <td>74</td>\n",
       "      <td>100000</td>\n",
       "    </tr>\n",
       "    <tr>\n",
       "      <th>1905</th>\n",
       "      <td>54</td>\n",
       "      <td>89</td>\n",
       "      <td>78</td>\n",
       "      <td>100000</td>\n",
       "    </tr>\n",
       "    <tr>\n",
       "      <th>1906</th>\n",
       "      <td>67</td>\n",
       "      <td>99</td>\n",
       "      <td>88</td>\n",
       "      <td>100000</td>\n",
       "    </tr>\n",
       "    <tr>\n",
       "      <th>1907</th>\n",
       "      <td>66</td>\n",
       "      <td>102</td>\n",
       "      <td>88</td>\n",
       "      <td>100000</td>\n",
       "    </tr>\n",
       "  </tbody>\n",
       "</table>\n",
       "<p>1908 rows × 4 columns</p>\n",
       "</div>"
      ],
      "text/plain": [
       "      red_freq  green_freq  blue_freq   value\n",
       "0           66          86         75    1000\n",
       "1           66          86         75    1000\n",
       "2           72          84         76    1000\n",
       "3           72          84         76    1000\n",
       "4           72          83         76    1000\n",
       "...        ...         ...        ...     ...\n",
       "1903        62          86         75  100000\n",
       "1904        62          83         74  100000\n",
       "1905        54          89         78  100000\n",
       "1906        67          99         88  100000\n",
       "1907        66         102         88  100000\n",
       "\n",
       "[1908 rows x 4 columns]"
      ]
     },
     "execution_count": 1140,
     "metadata": {},
     "output_type": "execute_result"
    }
   ],
   "source": [
    "# df[\"r-g\"] = df[\"red_freq\"] - df[\"green_freq\"]\n",
    "# df[\"r-b\"] = df[\"red_freq\"] - df[\"blue_freq\"]\n",
    "# df[\"g-b\"] = df[\"green_freq\"] - df[\"blue_freq\"]\n",
    "# df[\"rgb\"] = df[\"red_freq\"]*df[\"green_freq\"]*df[\"blue_freq\"]\n",
    "# df[\"r+g+b\"] = df[\"red_freq\"]+df[\"green_freq\"]+df[\"blue_freq\"]\n",
    "df"
   ]
  },
  {
   "cell_type": "markdown",
   "metadata": {},
   "source": [
    "# Modelling"
   ]
  },
  {
   "cell_type": "code",
   "execution_count": 1141,
   "metadata": {},
   "outputs": [],
   "source": [
    "from sklearn.tree import DecisionTreeClassifier\n",
    "from sklearn.ensemble import RandomForestClassifier\n",
    "from sklearn.svm import SVC\n",
    "from sklearn.linear_model import LogisticRegression\n",
    "from sklearn.preprocessing import LabelEncoder\n",
    "from sklearn.neighbors import KNeighborsClassifier\n",
    "from sklearn.model_selection import train_test_split\n",
    "from sklearn.metrics import accuracy_score\n",
    "from sklearn.metrics import f1_score\n",
    "from sklearn.metrics import precision_score, mean_squared_error, roc_auc_score, auc, roc_curve, recall_score, confusion_matrix\n",
    "\n",
    "\n"
   ]
  },
  {
   "cell_type": "code",
   "execution_count": null,
   "metadata": {},
   "outputs": [],
   "source": [
    "\n"
   ]
  },
  {
   "cell_type": "code",
   "execution_count": 1142,
   "metadata": {},
   "outputs": [],
   "source": [
    "X = df.drop(columns=\"value\")\n",
    "y = df[\"value\"]\n",
    "X_train, X_test, y_train, y_test = train_test_split(X, y, test_size=0.4, random_state=42)"
   ]
  },
  {
   "cell_type": "code",
   "execution_count": 1143,
   "metadata": {},
   "outputs": [
    {
     "data": {
      "image/png": "[encoded data removed]",
      "text/plain": [
       "<Figure size 720x576 with 1 Axes>"
      ]
     },
     "metadata": {
      "needs_background": "light"
     },
     "output_type": "display_data"
    }
   ],
   "source": [
    "from sklearn.decomposition import PCA\n",
    "from mpl_toolkits.mplot3d import Axes3D\n",
    "from matplotlib import cm\n",
    "# Instantiate PCA with the desired number of components\n",
    "pca = PCA(n_components=3)  # You can choose 2 or 3 components for 2D or 3D visualization\n",
    "\n",
    "# Fit and transform your data\n",
    "pca_result = pca.fit_transform(X)\n",
    "pca_df = pd.DataFrame(data=pca_result, columns=['PCA1', 'PCA2', 'PCA3'])\n",
    "pca_df['Target'] = y\n",
    "\n",
    "colors = plt.cm.viridis(np.linspace(0, 1, len(pca_df['Target'].unique())))\n",
    "\n",
    "fig = plt.figure(figsize=(10, 8))\n",
    "ax = fig.add_subplot(111, projection='3d')\n",
    "\n",
    "# Scatter plot the data points with colors based on class\n",
    "for i, target_class in enumerate(pca_df['Target'].unique()):\n",
    "    subset = pca_df[pca_df['Target'] == target_class]\n",
    "    ax.scatter(subset['PCA1'], subset['PCA2'], subset['PCA3'], label=f'{target_class}', c=[colors[i]])\n",
    "\n",
    "# Add labels and a legend\n",
    "ax.set_xlabel('Principal Component 1')\n",
    "ax.set_ylabel('Principal Component 2')\n",
    "ax.set_zlabel('Principal Component 3')\n",
    "plt.title('PCA Distribution of Data by Target')\n",
    "plt.legend()\n",
    "\n",
    "plt.show()\n",
    "# sns.scatterplot(x='PCA1', y='PCA2', hue='Target', data=pca_df, palette='viridis', legend='full')\n",
    "# plt.title('PCA Distribution of Data by Target')\n",
    "# plt.xlabel('Principal Component 1')\n",
    "# plt.ylabel('Principal Component 2')\n",
    "plt.show()"
   ]
  },
  {
   "cell_type": "code",
   "execution_count": 1144,
   "metadata": {},
   "outputs": [
    {
     "data": {
      "text/html": [
       "<div>\n",
       "<style scoped>\n",
       "    .dataframe tbody tr th:only-of-type {\n",
       "        vertical-align: middle;\n",
       "    }\n",
       "\n",
       "    .dataframe tbody tr th {\n",
       "        vertical-align: top;\n",
       "    }\n",
       "\n",
       "    .dataframe thead th {\n",
       "        text-align: right;\n",
       "    }\n",
       "</style>\n",
       "<table border=\"1\" class=\"dataframe\">\n",
       "  <thead>\n",
       "    <tr style=\"text-align: right;\">\n",
       "      <th></th>\n",
       "      <th>red_freq</th>\n",
       "      <th>green_freq</th>\n",
       "      <th>blue_freq</th>\n",
       "    </tr>\n",
       "  </thead>\n",
       "  <tbody>\n",
       "    <tr>\n",
       "      <th>1351</th>\n",
       "      <td>79</td>\n",
       "      <td>81</td>\n",
       "      <td>79</td>\n",
       "    </tr>\n",
       "    <tr>\n",
       "      <th>1355</th>\n",
       "      <td>78</td>\n",
       "      <td>80</td>\n",
       "      <td>79</td>\n",
       "    </tr>\n",
       "    <tr>\n",
       "      <th>1607</th>\n",
       "      <td>100</td>\n",
       "      <td>100</td>\n",
       "      <td>83</td>\n",
       "    </tr>\n",
       "    <tr>\n",
       "      <th>1778</th>\n",
       "      <td>64</td>\n",
       "      <td>89</td>\n",
       "      <td>76</td>\n",
       "    </tr>\n",
       "    <tr>\n",
       "      <th>892</th>\n",
       "      <td>67</td>\n",
       "      <td>85</td>\n",
       "      <td>86</td>\n",
       "    </tr>\n",
       "    <tr>\n",
       "      <th>...</th>\n",
       "      <td>...</td>\n",
       "      <td>...</td>\n",
       "      <td>...</td>\n",
       "    </tr>\n",
       "    <tr>\n",
       "      <th>1130</th>\n",
       "      <td>79</td>\n",
       "      <td>96</td>\n",
       "      <td>81</td>\n",
       "    </tr>\n",
       "    <tr>\n",
       "      <th>1294</th>\n",
       "      <td>70</td>\n",
       "      <td>73</td>\n",
       "      <td>70</td>\n",
       "    </tr>\n",
       "    <tr>\n",
       "      <th>860</th>\n",
       "      <td>66</td>\n",
       "      <td>84</td>\n",
       "      <td>85</td>\n",
       "    </tr>\n",
       "    <tr>\n",
       "      <th>1459</th>\n",
       "      <td>72</td>\n",
       "      <td>75</td>\n",
       "      <td>74</td>\n",
       "    </tr>\n",
       "    <tr>\n",
       "      <th>1126</th>\n",
       "      <td>78</td>\n",
       "      <td>96</td>\n",
       "      <td>80</td>\n",
       "    </tr>\n",
       "  </tbody>\n",
       "</table>\n",
       "<p>1144 rows × 3 columns</p>\n",
       "</div>"
      ],
      "text/plain": [
       "      red_freq  green_freq  blue_freq\n",
       "1351        79          81         79\n",
       "1355        78          80         79\n",
       "1607       100         100         83\n",
       "1778        64          89         76\n",
       "892         67          85         86\n",
       "...        ...         ...        ...\n",
       "1130        79          96         81\n",
       "1294        70          73         70\n",
       "860         66          84         85\n",
       "1459        72          75         74\n",
       "1126        78          96         80\n",
       "\n",
       "[1144 rows x 3 columns]"
      ]
     },
     "metadata": {},
     "output_type": "display_data"
    },
    {
     "data": {
      "text/plain": [
       "1351     20000\n",
       "1355     20000\n",
       "1607     50000\n",
       "1778    100000\n",
       "892       5000\n",
       "         ...  \n",
       "1130     10000\n",
       "1294     20000\n",
       "860       5000\n",
       "1459     20000\n",
       "1126     10000\n",
       "Name: value, Length: 1144, dtype: object"
      ]
     },
     "metadata": {},
     "output_type": "display_data"
    }
   ],
   "source": [
    "display(X_train)\n",
    "display(y_train)"
   ]
  },
  {
   "cell_type": "code",
   "execution_count": 1145,
   "metadata": {},
   "outputs": [],
   "source": [
    "# decision_tree = DecisionTreeClassifier(random_state=42)\n",
    "# random_forest = RandomForestClassifier(random_state=42)\n",
    "# svc = SVC(kernel=\"linear\", random_state=42)\n",
    "# logistic_regression = LogisticRegression(random_state=42)\n",
    "# knn = KNeighborsClassifier(n_neighbors=6)\n",
    "# models = [(\"Decision Tree\",decision_tree), (\"Random Forest\", random_forest), (\"SVC\", svc), (\"Logistic Regression\", logistic_regression), (\"KNN\", knn) ]\n",
    "xgb = XGBClassifier(learning_rate = 0.1, gamma = 0.1, max_depth = 12, n_estimators = 400)\n",
    "xgb_model = (\"XGBoost\", xgb)"
   ]
  },
  {
   "cell_type": "code",
   "execution_count": 1146,
   "metadata": {},
   "outputs": [],
   "source": [
    "from sklearn.preprocessing import LabelEncoder\n",
    "\n",
    "label = {\n",
    "    \"1000\":0,\n",
    "    \"2000\":1,\n",
    "    \"5000\":2,\n",
    "    \"10000\":3,\n",
    "    \"20000\":4,\n",
    "    \"50000\":5,\n",
    "    \"100000\":6\n",
    "}\n",
    "\n",
    "# Create a custom LabelEncoder class\n",
    "class CustomLabelEncoder(LabelEncoder):\n",
    "    def __init__(self, label_dict):\n",
    "        self.label_dict = label_dict\n",
    "        super().__init__()\n",
    "\n",
    "    def fit(self, y):\n",
    "        super().fit(y)\n",
    "        self.classes_ = [self.label_dict[label] for label in self.classes_]\n",
    "\n",
    "    def transform(self, y):\n",
    "        return super().transform(y)\n",
    "\n",
    "    def inverse_transform(self, y):\n",
    "        y_original = [list(self.label_dict.keys())[list(self.label_dict.values()).index(encoded)] for encoded in y]\n",
    "        return y_original\n",
    "    \n",
    "\n",
    "# Initialize the LabelEncoder\n",
    "label_encoder = CustomLabelEncoder(label)\n",
    "\n",
    "# Fit the LabelEncoder to your target classes and transform them\n",
    "y_train_encoded = label_encoder.fit_transform(y_train)"
   ]
  },
  {
   "cell_type": "code",
   "execution_count": 1147,
   "metadata": {},
   "outputs": [
    {
     "name": "stdout",
     "output_type": "stream",
     "text": [
      "[4 4 6 ... 5 4 1]\n"
     ]
    }
   ],
   "source": [
    "print(y_train_encoded)"
   ]
  },
  {
   "cell_type": "markdown",
   "metadata": {},
   "source": [
    "### Training"
   ]
  },
  {
   "cell_type": "code",
   "execution_count": 1148,
   "metadata": {},
   "outputs": [
    {
     "data": {
      "text/html": [
       "<style>#sk-container-id-87 {color: black;}#sk-container-id-87 pre{padding: 0;}#sk-container-id-87 div.sk-toggleable {background-color: white;}#sk-container-id-87 label.sk-toggleable__label {cursor: pointer;display: block;width: 100%;margin-bottom: 0;padding: 0.3em;box-sizing: border-box;text-align: center;}#sk-container-id-87 label.sk-toggleable__label-arrow:before {content: \"▸\";float: left;margin-right: 0.25em;color: #696969;}#sk-container-id-87 label.sk-toggleable__label-arrow:hover:before {color: black;}#sk-container-id-87 div.sk-estimator:hover label.sk-toggleable__label-arrow:before {color: black;}#sk-container-id-87 div.sk-toggleable__content {max-height: 0;max-width: 0;overflow: hidden;text-align: left;background-color: #f0f8ff;}#sk-container-id-87 div.sk-toggleable__content pre {margin: 0.2em;color: black;border-radius: 0.25em;background-color: #f0f8ff;}#sk-container-id-87 input.sk-toggleable__control:checked~div.sk-toggleable__content {max-height: 200px;max-width: 100%;overflow: auto;}#sk-container-id-87 input.sk-toggleable__control:checked~label.sk-toggleable__label-arrow:before {content: \"▾\";}#sk-container-id-87 div.sk-estimator input.sk-toggleable__control:checked~label.sk-toggleable__label {background-color: #d4ebff;}#sk-container-id-87 div.sk-label input.sk-toggleable__control:checked~label.sk-toggleable__label {background-color: #d4ebff;}#sk-container-id-87 input.sk-hidden--visually {border: 0;clip: rect(1px 1px 1px 1px);clip: rect(1px, 1px, 1px, 1px);height: 1px;margin: -1px;overflow: hidden;padding: 0;position: absolute;width: 1px;}#sk-container-id-87 div.sk-estimator {font-family: monospace;background-color: #f0f8ff;border: 1px dotted black;border-radius: 0.25em;box-sizing: border-box;margin-bottom: 0.5em;}#sk-container-id-87 div.sk-estimator:hover {background-color: #d4ebff;}#sk-container-id-87 div.sk-parallel-item::after {content: \"\";width: 100%;border-bottom: 1px solid gray;flex-grow: 1;}#sk-container-id-87 div.sk-label:hover label.sk-toggleable__label {background-color: #d4ebff;}#sk-container-id-87 div.sk-serial::before {content: \"\";position: absolute;border-left: 1px solid gray;box-sizing: border-box;top: 0;bottom: 0;left: 50%;z-index: 0;}#sk-container-id-87 div.sk-serial {display: flex;flex-direction: column;align-items: center;background-color: white;padding-right: 0.2em;padding-left: 0.2em;position: relative;}#sk-container-id-87 div.sk-item {position: relative;z-index: 1;}#sk-container-id-87 div.sk-parallel {display: flex;align-items: stretch;justify-content: center;background-color: white;position: relative;}#sk-container-id-87 div.sk-item::before, #sk-container-id-87 div.sk-parallel-item::before {content: \"\";position: absolute;border-left: 1px solid gray;box-sizing: border-box;top: 0;bottom: 0;left: 50%;z-index: -1;}#sk-container-id-87 div.sk-parallel-item {display: flex;flex-direction: column;z-index: 1;position: relative;background-color: white;}#sk-container-id-87 div.sk-parallel-item:first-child::after {align-self: flex-end;width: 50%;}#sk-container-id-87 div.sk-parallel-item:last-child::after {align-self: flex-start;width: 50%;}#sk-container-id-87 div.sk-parallel-item:only-child::after {width: 0;}#sk-container-id-87 div.sk-dashed-wrapped {border: 1px dashed gray;margin: 0 0.4em 0.5em 0.4em;box-sizing: border-box;padding-bottom: 0.4em;background-color: white;}#sk-container-id-87 div.sk-label label {font-family: monospace;font-weight: bold;display: inline-block;line-height: 1.2em;}#sk-container-id-87 div.sk-label-container {text-align: center;}#sk-container-id-87 div.sk-container {/* jupyter's `normalize.less` sets `[hidden] { display: none; }` but bootstrap.min.css set `[hidden] { display: none !important; }` so we also need the `!important` here to be able to override the default hidden behavior on the sphinx rendered scikit-learn.org. See: https://github.com/scikit-learn/scikit-learn/issues/21755 */display: inline-block !important;position: relative;}#sk-container-id-87 div.sk-text-repr-fallback {display: none;}</style><div id=\"sk-container-id-87\" class=\"sk-top-container\"><div class=\"sk-text-repr-fallback\"><pre>XGBClassifier(base_score=None, booster=None, callbacks=None,\n",
       "              colsample_bylevel=None, colsample_bynode=None,\n",
       "              colsample_bytree=None, early_stopping_rounds=None,\n",
       "              enable_categorical=False, eval_metric=None, feature_types=None,\n",
       "              gamma=0.1, gpu_id=None, grow_policy=None, importance_type=None,\n",
       "              interaction_constraints=None, learning_rate=0.1, max_bin=None,\n",
       "              max_cat_threshold=None, max_cat_to_onehot=None,\n",
       "              max_delta_step=None, max_depth=12, max_leaves=None,\n",
       "              min_child_weight=None, missing=nan, monotone_constraints=None,\n",
       "              n_estimators=400, n_jobs=None, num_parallel_tree=None,\n",
       "              objective=&#x27;multi:softprob&#x27;, predictor=None, ...)</pre><b>In a Jupyter environment, please rerun this cell to show the HTML representation or trust the notebook. <br />On GitHub, the HTML representation is unable to render, please try loading this page with nbviewer.org.</b></div><div class=\"sk-container\" hidden><div class=\"sk-item\"><div class=\"sk-estimator sk-toggleable\"><input class=\"sk-toggleable__control sk-hidden--visually\" id=\"sk-estimator-id-87\" type=\"checkbox\" checked><label for=\"sk-estimator-id-87\" class=\"sk-toggleable__label sk-toggleable__label-arrow\">XGBClassifier</label><div class=\"sk-toggleable__content\"><pre>XGBClassifier(base_score=None, booster=None, callbacks=None,\n",
       "              colsample_bylevel=None, colsample_bynode=None,\n",
       "              colsample_bytree=None, early_stopping_rounds=None,\n",
       "              enable_categorical=False, eval_metric=None, feature_types=None,\n",
       "              gamma=0.1, gpu_id=None, grow_policy=None, importance_type=None,\n",
       "              interaction_constraints=None, learning_rate=0.1, max_bin=None,\n",
       "              max_cat_threshold=None, max_cat_to_onehot=None,\n",
       "              max_delta_step=None, max_depth=12, max_leaves=None,\n",
       "              min_child_weight=None, missing=nan, monotone_constraints=None,\n",
       "              n_estimators=400, n_jobs=None, num_parallel_tree=None,\n",
       "              objective=&#x27;multi:softprob&#x27;, predictor=None, ...)</pre></div></div></div></div></div>"
      ],
      "text/plain": [
       "XGBClassifier(base_score=None, booster=None, callbacks=None,\n",
       "              colsample_bylevel=None, colsample_bynode=None,\n",
       "              colsample_bytree=None, early_stopping_rounds=None,\n",
       "              enable_categorical=False, eval_metric=None, feature_types=None,\n",
       "              gamma=0.1, gpu_id=None, grow_policy=None, importance_type=None,\n",
       "              interaction_constraints=None, learning_rate=0.1, max_bin=None,\n",
       "              max_cat_threshold=None, max_cat_to_onehot=None,\n",
       "              max_delta_step=None, max_depth=12, max_leaves=None,\n",
       "              min_child_weight=None, missing=nan, monotone_constraints=None,\n",
       "              n_estimators=400, n_jobs=None, num_parallel_tree=None,\n",
       "              objective='multi:softprob', predictor=None, ...)"
      ]
     },
     "execution_count": 1148,
     "metadata": {},
     "output_type": "execute_result"
    }
   ],
   "source": [
    "# for i in models:\n",
    "#     i[1].fit(X_train, y_train)\n",
    "from sklearn.model_selection import RandomizedSearchCV, GridSearchCV\n",
    "\n",
    "param_dist = {\n",
    "    'n_estimators': [100, 200, 300],\n",
    "    'max_depth': [3, 4, 5],\n",
    "    'learning_rate': [0.1, 0.01, 0.001],\n",
    "    'min_child_weight': [1, 2, 3],\n",
    "    'gamma': [0, 0.1, 0.2],\n",
    "    'subsample': [0.8, 0.9, 1.0],\n",
    "    'colsample_bytree': [0.8, 0.9, 1.0]\n",
    "}\n",
    "\n",
    "random_search = RandomizedSearchCV(\n",
    "    estimator=xgb,\n",
    "    param_distributions=param_dist,\n",
    "    n_iter=10,  # Number of random combinations to try\n",
    "    cv=3,  # Number of cross-validation folds\n",
    "    scoring='accuracy',\n",
    "    verbose=1,\n",
    "    n_jobs=-1,  # Use all available CPU cores for parallel processing\n",
    "    random_state=42  # Set a random seed for reproducibility\n",
    ")\n",
    "\n",
    "# random_search.fit(X_train, y_train_encoded)\n",
    "\n",
    "xgb.fit(X_train, y_train_encoded)\n",
    "\n",
    "# best_params = random_search.best_params_\n",
    "# best_xgb_model = random_search.best_estimator_\n",
    "# print(best_params)\n",
    "# print(best_xgb_model)\n",
    "\n",
    "# best_xgb = (\"XGBoost\", best_xgb_model)\n",
    "\n",
    "\n",
    "\n"
   ]
  },
  {
   "cell_type": "markdown",
   "metadata": {},
   "source": [
    "### Prediction"
   ]
  },
  {
   "cell_type": "code",
   "execution_count": 1149,
   "metadata": {},
   "outputs": [
    {
     "name": "stdout",
     "output_type": "stream",
     "text": [
      "XGBoost f1 score= 0.9435918231934076\n",
      "XGBoost accuracy = 0.943717277486911\n",
      "XGBoost precision = 0.9543701689429535\n",
      "XGBoost recall = 0.9493300836987412\n",
      "['20000', '1000', '5000', '50000', '1000', '5000', '1000', '10000', '10000', '2000', '20000', '1000', '2000', '1000', '1000', '5000', '2000', '50000', '1000', '20000', '1000', '50000', '2000', '20000', '10000', '50000', '1000', '20000', '100000', '2000', '10000', '50000', '100000', '20000', '1000', '20000', '20000', '20000', '1000', '5000', '10000', '1000', '1000', '10000', '100000', '100000', '1000', '20000', '1000', '20000', '2000', '2000', '20000', '10000', '1000', '2000', '5000', '1000', '50000', '1000', '100000', '2000', '50000', '5000', '1000', '2000', '5000', '20000', '1000', '20000', '20000', '2000', '5000', '1000', '2000', '1000', '100000', '50000', '10000', '10000', '100000', '10000', '100000', '5000', '10000', '100000', '1000', '100000', '100000', '10000', '20000', '1000', '5000', '20000', '10000', '10000', '50000', '2000', '100000', '10000', '5000', '20000', '100000', '1000', '50000', '1000', '1000', '20000', '100000', '50000', '1000', '1000', '5000', '20000', '5000', '50000', '1000', '1000', '10000', '2000', '50000', '100000', '5000', '100000', '20000', '10000', '50000', '2000', '50000', '10000', '10000', '20000', '10000', '2000', '1000', '50000', '5000', '10000', '10000', '1000', '100000', '100000', '50000', '1000', '100000', '2000', '2000', '5000', '100000', '10000', '2000', '20000', '20000', '1000', '1000', '1000', '1000', '1000', '1000', '2000', '1000', '10000', '5000', '50000', '1000', '20000', '2000', '5000', '20000', '5000', '50000', '10000', '1000', '100000', '2000', '10000', '20000', '1000', '20000', '50000', '10000', '50000', '20000', '1000', '50000', '5000', '1000', '20000', '1000', '100000', '2000', '20000', '10000', '50000', '20000', '2000', '1000', '50000', '1000', '1000', '1000', '100000', '1000', '100000', '10000', '100000', '20000', '1000', '50000', '1000', '20000', '50000', '2000', '20000', '20000', '1000', '1000', '1000', '1000', '1000', '100000', '1000', '5000', '5000', '1000', '1000', '100000', '1000', '1000', '10000', '1000', '2000', '5000', '1000', '1000', '2000', '100000', '1000', '1000', '1000', '50000', '10000', '5000', '5000', '10000', '10000', '2000', '5000', '50000', '10000', '2000', '1000', '2000', '20000', '5000', '100000', '2000', '1000', '5000', '20000', '5000', '20000', '2000', '10000', '50000', '10000', '2000', '50000', '50000', '20000', '10000', '10000', '1000', '20000', '2000', '20000', '1000', '2000', '1000', '10000', '1000', '5000', '1000', '20000', '20000', '20000', '10000', '10000', '100000', '5000', '1000', '50000', '20000', '1000', '5000', '5000', '100000', '5000', '100000', '100000', '5000', '20000', '100000', '1000', '1000', '10000', '2000', '2000', '20000', '50000', '5000', '1000', '10000', '2000', '5000', '20000', '1000', '2000', '1000', '10000', '2000', '10000', '10000', '20000', '1000', '2000', '50000', '1000', '20000', '50000', '1000', '20000', '20000', '100000', '2000', '1000', '10000', '1000', '5000', '2000', '1000', '2000', '1000', '5000', '10000', '10000', '2000', '100000', '50000', '10000', '10000', '20000', '10000', '1000', '1000', '1000', '1000', '2000', '2000', '1000', '1000', '5000', '5000', '100000', '1000', '100000', '50000', '1000', '10000', '5000', '20000', '50000', '5000', '10000', '20000', '1000', '10000', '2000', '5000', '50000', '10000', '50000', '1000', '2000', '2000', '5000', '1000', '20000', '10000', '20000', '100000', '1000', '1000', '1000', '20000', '1000', '1000', '10000', '50000', '1000', '2000', '2000', '10000', '100000', '100000', '20000', '100000', '1000', '100000', '2000', '1000', '1000', '1000', '10000', '100000', '20000', '2000', '20000', '1000', '2000', '20000', '50000', '5000', '5000', '100000', '1000', '2000', '1000', '1000', '5000', '10000', '1000', '5000', '50000', '5000', '20000', '5000', '2000', '2000', '50000', '1000', '10000', '20000', '50000', '10000', '50000', '2000', '1000', '10000', '50000', '50000', '10000', '1000', '50000', '50000', '2000', '2000', '5000', '50000', '2000', '1000', '1000', '1000', '20000', '50000', '50000', '5000', '50000', '10000', '50000', '2000', '100000', '10000', '2000', '1000', '20000', '100000', '2000', '10000', '2000', '50000', '5000', '5000', '2000', '50000', '20000', '50000', '10000', '2000', '1000', '1000', '1000', '50000', '2000', '10000', '2000', '1000', '1000', '1000', '20000', '1000', '1000', '5000', '50000', '50000', '1000', '2000', '10000', '5000', '20000', '50000', '100000', '100000', '2000', '2000', '50000', '2000', '1000', '5000', '2000', '2000', '2000', '10000', '5000', '1000', '10000', '5000', '5000', '10000', '50000', '20000', '50000', '1000', '10000', '2000', '1000', '1000', '100000', '50000', '1000', '50000', '50000', '1000', '10000', '10000', '50000', '50000', '20000', '50000', '2000', '5000', '2000', '20000', '1000', '100000', '50000', '20000', '100000', '20000', '2000', '20000', '20000', '50000', '10000', '100000', '20000', '50000', '20000', '20000', '50000', '10000', '2000', '1000', '5000', '1000', '2000', '10000', '1000', '5000', '100000', '1000', '20000', '20000', '1000', '5000', '5000', '1000', '2000', '50000', '2000', '100000', '2000', '20000', '50000', '50000', '1000', '2000', '2000', '10000', '10000', '1000', '2000', '50000', '1000', '100000', '1000', '100000', '1000', '2000', '10000', '2000', '5000', '5000', '10000', '10000', '5000', '1000', '2000', '5000', '20000', '5000', '5000', '100000', '100000', '50000', '20000', '2000', '2000', '100000', '1000', '2000', '10000', '2000', '50000', '50000', '1000', '2000', '5000', '1000', '20000', '5000', '10000', '1000', '100000', '10000', '1000', '1000', '50000', '2000', '50000', '1000', '100000', '10000', '20000', '1000', '1000', '20000', '1000', '20000', '10000', '20000', '100000', '10000', '5000', '50000', '1000', '50000', '1000', '10000', '5000', '50000', '2000', '1000', '1000', '1000', '1000', '1000', '1000', '10000', '1000', '10000', '50000', '2000', '20000', '100000', '100000', '10000', '1000', '50000', '50000', '2000', '50000', '100000', '10000', '1000', '100000', '5000', '2000', '5000', '50000', '10000', '20000', '1000', '50000', '5000', '100000', '1000', '10000', '5000', '5000', '1000', '10000', '10000', '10000', '10000', '2000', '1000', '50000', '10000', '50000', '2000', '50000', '5000', '1000', '50000', '10000', '2000', '100000', '1000', '2000', '1000', '1000', '2000', '5000', '1000', '100000', '10000', '1000', '50000', '1000', '50000', '1000', '100000', '20000', '2000', '20000', '2000', '5000', '10000', '2000', '50000', '50000', '1000', '100000', '20000', '1000', '1000', '50000', '10000', '50000', '50000', '1000', '2000', '5000']\n"
     ]
    },
    {
     "data": {
      "image/png": "[encoded data removed]",
      "text/plain": [
       "<Figure size 576x432 with 2 Axes>"
      ]
     },
     "metadata": {
      "needs_background": "light"
     },
     "output_type": "display_data"
    }
   ],
   "source": [
    "# model_names = []\n",
    "# y_preds = []\n",
    "\n",
    "\n",
    "# for model in models:    \n",
    "#     y_pred = model[1].predict(X_test)\n",
    "\n",
    "#     # Calculate the confusion matrix\n",
    "#     # confusion = confusion_matrix(y_true=y_test, y_pred=y_pred)\n",
    "\n",
    "#     # # Print the confusion matrix\n",
    "#     # print(f\"Confusion matrix for {model[0]}:\")\n",
    "#     # print(confusion)\n",
    "\n",
    "#     f1 = f1_score(y_true=y_test, y_pred=y_pred, average='weighted')\n",
    "#     accuracy = accuracy_score(y_true=y_test, y_pred=y_pred)\n",
    "#     precision = precision_score(y_test, y_pred, average='micro')\n",
    "#     mse = mean_squared_error(y_test, y_pred)\n",
    "#     recall = recall_score(y_test, y_pred, average='micro')\n",
    "#     print(f\"{model[0]} f1 score= {f1}\")\n",
    "#     print(f\"{model[0]} accuracy = {accuracy}\")\n",
    "#     print(f\"{model[0]} precision = {precision}\")\n",
    "#     print(f\"{model[0]} recall = {recall}\")\n",
    "#     print(f\"{model[0]} mse = {mse}\")\n",
    "#     confusion = confusion_matrix(y_true=y_test, y_pred=y_pred, labels=sorted(set(y_test)))\n",
    "#     model_name = model[0]\n",
    "\n",
    "#     # Create a heatmap for the confusion matrix\n",
    "#     plt.figure(figsize=(8, 6))\n",
    "#     sns.heatmap(confusion, annot=True, fmt=\"d\", cmap=\"Blues\",\n",
    "#                 xticklabels=sorted(set(y_test)), yticklabels=sorted(set(y_test)))\n",
    "#     plt.title(f\"Confusion Matrix for {model_name}\")\n",
    "#     plt.xlabel(\"Predicted Labels\")\n",
    "#     plt.ylabel(\"True Labels\")\n",
    "#     plt.show()\n",
    "\n",
    "y_test = label_encoder.fit_transform(y_test)\n",
    "\n",
    "\n",
    "y_pred = xgb_model[1].predict(X_test)\n",
    "\n",
    "# Calculate the confusion matrix\n",
    "# confusion = confusion_matrix(y_true=y_test, y_pred=y_pred)\n",
    "\n",
    "# # Print the confusion matrix\n",
    "# print(f\"Confusion matrix for {xgb_model[0]}:\")\n",
    "# print(confusion)\n",
    "y_test = label_encoder.inverse_transform(y_test)\n",
    "y_pred = label_encoder.inverse_transform(y_pred)\n",
    "f1 = f1_score(y_true=y_test, y_pred=y_pred, average='weighted')\n",
    "accuracy = accuracy_score(y_true=y_test, y_pred=y_pred)\n",
    "precision = precision_score(y_test, y_pred, average='macro')\n",
    "recall = recall_score(y_test, y_pred, average='macro')\n",
    "print(f\"{xgb_model[0]} f1 score= {f1}\")\n",
    "print(f\"{xgb_model[0]} accuracy = {accuracy}\")\n",
    "print(f\"{xgb_model[0]} precision = {precision}\")\n",
    "print(f\"{xgb_model[0]} recall = {recall}\")\n",
    "print(y_pred)\n",
    "confusion = confusion_matrix(y_true=y_test, y_pred=y_pred, labels=sorted(set(y_test)))\n",
    "xgb_model_name = xgb_model[0]\n",
    "\n",
    "# Create a heatmap for the confusion matrix\n",
    "plt.figure(figsize=(8, 6))\n",
    "sns.heatmap(confusion, annot=True, fmt=\"d\", cmap=\"Blues\",\n",
    "            xticklabels=sorted(set(y_test)), yticklabels=sorted(set(y_test)))\n",
    "plt.title(f\"Confusion Matrix for {xgb_model_name}\")\n",
    "plt.xlabel(\"Predicted Labels\")\n",
    "plt.ylabel(\"True Labels\")\n",
    "plt.show()"
   ]
  },
  {
   "cell_type": "markdown",
   "metadata": {},
   "source": [
    "### Analisis hasil prediksi"
   ]
  },
  {
   "cell_type": "markdown",
   "metadata": {},
   "source": [
    "Dari hasil prediksi, model decision tree dan random forest memiliki akurasi tertinggi yaitu sekitar 95%"
   ]
  },
  {
   "cell_type": "markdown",
   "metadata": {},
   "source": [
    "### pemilihan model setelah hasil analisis"
   ]
  },
  {
   "cell_type": "code",
   "execution_count": 1150,
   "metadata": {},
   "outputs": [
    {
     "name": "stdout",
     "output_type": "stream",
     "text": [
      "[0 0 0 ... 2 2 2]\n"
     ]
    },
    {
     "data": {
      "text/html": [
       "<style>#sk-container-id-88 {color: black;}#sk-container-id-88 pre{padding: 0;}#sk-container-id-88 div.sk-toggleable {background-color: white;}#sk-container-id-88 label.sk-toggleable__label {cursor: pointer;display: block;width: 100%;margin-bottom: 0;padding: 0.3em;box-sizing: border-box;text-align: center;}#sk-container-id-88 label.sk-toggleable__label-arrow:before {content: \"▸\";float: left;margin-right: 0.25em;color: #696969;}#sk-container-id-88 label.sk-toggleable__label-arrow:hover:before {color: black;}#sk-container-id-88 div.sk-estimator:hover label.sk-toggleable__label-arrow:before {color: black;}#sk-container-id-88 div.sk-toggleable__content {max-height: 0;max-width: 0;overflow: hidden;text-align: left;background-color: #f0f8ff;}#sk-container-id-88 div.sk-toggleable__content pre {margin: 0.2em;color: black;border-radius: 0.25em;background-color: #f0f8ff;}#sk-container-id-88 input.sk-toggleable__control:checked~div.sk-toggleable__content {max-height: 200px;max-width: 100%;overflow: auto;}#sk-container-id-88 input.sk-toggleable__control:checked~label.sk-toggleable__label-arrow:before {content: \"▾\";}#sk-container-id-88 div.sk-estimator input.sk-toggleable__control:checked~label.sk-toggleable__label {background-color: #d4ebff;}#sk-container-id-88 div.sk-label input.sk-toggleable__control:checked~label.sk-toggleable__label {background-color: #d4ebff;}#sk-container-id-88 input.sk-hidden--visually {border: 0;clip: rect(1px 1px 1px 1px);clip: rect(1px, 1px, 1px, 1px);height: 1px;margin: -1px;overflow: hidden;padding: 0;position: absolute;width: 1px;}#sk-container-id-88 div.sk-estimator {font-family: monospace;background-color: #f0f8ff;border: 1px dotted black;border-radius: 0.25em;box-sizing: border-box;margin-bottom: 0.5em;}#sk-container-id-88 div.sk-estimator:hover {background-color: #d4ebff;}#sk-container-id-88 div.sk-parallel-item::after {content: \"\";width: 100%;border-bottom: 1px solid gray;flex-grow: 1;}#sk-container-id-88 div.sk-label:hover label.sk-toggleable__label {background-color: #d4ebff;}#sk-container-id-88 div.sk-serial::before {content: \"\";position: absolute;border-left: 1px solid gray;box-sizing: border-box;top: 0;bottom: 0;left: 50%;z-index: 0;}#sk-container-id-88 div.sk-serial {display: flex;flex-direction: column;align-items: center;background-color: white;padding-right: 0.2em;padding-left: 0.2em;position: relative;}#sk-container-id-88 div.sk-item {position: relative;z-index: 1;}#sk-container-id-88 div.sk-parallel {display: flex;align-items: stretch;justify-content: center;background-color: white;position: relative;}#sk-container-id-88 div.sk-item::before, #sk-container-id-88 div.sk-parallel-item::before {content: \"\";position: absolute;border-left: 1px solid gray;box-sizing: border-box;top: 0;bottom: 0;left: 50%;z-index: -1;}#sk-container-id-88 div.sk-parallel-item {display: flex;flex-direction: column;z-index: 1;position: relative;background-color: white;}#sk-container-id-88 div.sk-parallel-item:first-child::after {align-self: flex-end;width: 50%;}#sk-container-id-88 div.sk-parallel-item:last-child::after {align-self: flex-start;width: 50%;}#sk-container-id-88 div.sk-parallel-item:only-child::after {width: 0;}#sk-container-id-88 div.sk-dashed-wrapped {border: 1px dashed gray;margin: 0 0.4em 0.5em 0.4em;box-sizing: border-box;padding-bottom: 0.4em;background-color: white;}#sk-container-id-88 div.sk-label label {font-family: monospace;font-weight: bold;display: inline-block;line-height: 1.2em;}#sk-container-id-88 div.sk-label-container {text-align: center;}#sk-container-id-88 div.sk-container {/* jupyter's `normalize.less` sets `[hidden] { display: none; }` but bootstrap.min.css set `[hidden] { display: none !important; }` so we also need the `!important` here to be able to override the default hidden behavior on the sphinx rendered scikit-learn.org. See: https://github.com/scikit-learn/scikit-learn/issues/21755 */display: inline-block !important;position: relative;}#sk-container-id-88 div.sk-text-repr-fallback {display: none;}</style><div id=\"sk-container-id-88\" class=\"sk-top-container\"><div class=\"sk-text-repr-fallback\"><pre>XGBClassifier(base_score=None, booster=None, callbacks=None,\n",
       "              colsample_bylevel=None, colsample_bynode=None,\n",
       "              colsample_bytree=None, early_stopping_rounds=None,\n",
       "              enable_categorical=False, eval_metric=None, feature_types=None,\n",
       "              gamma=0.1, gpu_id=None, grow_policy=None, importance_type=None,\n",
       "              interaction_constraints=None, learning_rate=0.1, max_bin=None,\n",
       "              max_cat_threshold=None, max_cat_to_onehot=None,\n",
       "              max_delta_step=None, max_depth=12, max_leaves=None,\n",
       "              min_child_weight=None, missing=nan, monotone_constraints=None,\n",
       "              n_estimators=400, n_jobs=None, num_parallel_tree=None,\n",
       "              objective=&#x27;multi:softprob&#x27;, predictor=None, ...)</pre><b>In a Jupyter environment, please rerun this cell to show the HTML representation or trust the notebook. <br />On GitHub, the HTML representation is unable to render, please try loading this page with nbviewer.org.</b></div><div class=\"sk-container\" hidden><div class=\"sk-item\"><div class=\"sk-estimator sk-toggleable\"><input class=\"sk-toggleable__control sk-hidden--visually\" id=\"sk-estimator-id-88\" type=\"checkbox\" checked><label for=\"sk-estimator-id-88\" class=\"sk-toggleable__label sk-toggleable__label-arrow\">XGBClassifier</label><div class=\"sk-toggleable__content\"><pre>XGBClassifier(base_score=None, booster=None, callbacks=None,\n",
       "              colsample_bylevel=None, colsample_bynode=None,\n",
       "              colsample_bytree=None, early_stopping_rounds=None,\n",
       "              enable_categorical=False, eval_metric=None, feature_types=None,\n",
       "              gamma=0.1, gpu_id=None, grow_policy=None, importance_type=None,\n",
       "              interaction_constraints=None, learning_rate=0.1, max_bin=None,\n",
       "              max_cat_threshold=None, max_cat_to_onehot=None,\n",
       "              max_delta_step=None, max_depth=12, max_leaves=None,\n",
       "              min_child_weight=None, missing=nan, monotone_constraints=None,\n",
       "              n_estimators=400, n_jobs=None, num_parallel_tree=None,\n",
       "              objective=&#x27;multi:softprob&#x27;, predictor=None, ...)</pre></div></div></div></div></div>"
      ],
      "text/plain": [
       "XGBClassifier(base_score=None, booster=None, callbacks=None,\n",
       "              colsample_bylevel=None, colsample_bynode=None,\n",
       "              colsample_bytree=None, early_stopping_rounds=None,\n",
       "              enable_categorical=False, eval_metric=None, feature_types=None,\n",
       "              gamma=0.1, gpu_id=None, grow_policy=None, importance_type=None,\n",
       "              interaction_constraints=None, learning_rate=0.1, max_bin=None,\n",
       "              max_cat_threshold=None, max_cat_to_onehot=None,\n",
       "              max_delta_step=None, max_depth=12, max_leaves=None,\n",
       "              min_child_weight=None, missing=nan, monotone_constraints=None,\n",
       "              n_estimators=400, n_jobs=None, num_parallel_tree=None,\n",
       "              objective='multi:softprob', predictor=None, ...)"
      ]
     },
     "execution_count": 1150,
     "metadata": {},
     "output_type": "execute_result"
    }
   ],
   "source": [
    "# model = models[1][1]\n",
    "# model = KNeighborsClassifier(n_neighbors=20)\n",
    "model = XGBClassifier(random_state=42, learning_rate = 0.1, gamma = 0.1, max_depth = 12, n_estimators = 400)\n",
    "y = label_encoder.fit_transform(y)\n",
    "print(y)\n",
    "model.fit(X, y)\n"
   ]
  },
  {
   "cell_type": "markdown",
   "metadata": {},
   "source": [
    "### Import model"
   ]
  },
  {
   "cell_type": "code",
   "execution_count": 1151,
   "metadata": {},
   "outputs": [],
   "source": [
    "# import joblib\n",
    "# model_filename = 'model.joblib'\n",
    "# joblib.dump(model, model_filename)\n",
    "model.save_model('xgboost_model.bin')# Assuming you have a trained XGBoost model object named 'model'\n",
    "model.save_model('xgboost_model.json')\n"
   ]
  }
 ],
 "metadata": {
  "kernelspec": {
   "display_name": "Python 3",
   "language": "python",
   "name": "python3"
  },
  "language_info": {
   "codemirror_mode": {
    "name": "ipython",
    "version": 3
   },
   "file_extension": ".py",
   "mimetype": "text/x-python",
   "name": "python",
   "nbconvert_exporter": "python",
   "pygments_lexer": "ipython3",
   "version": "3.9.4"
  },
  "orig_nbformat": 4
 },
 "nbformat": 4,
 "nbformat_minor": 2
}
